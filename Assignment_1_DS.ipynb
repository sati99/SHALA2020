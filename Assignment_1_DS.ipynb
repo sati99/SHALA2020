{
  "nbformat": 4,
  "nbformat_minor": 0,
  "metadata": {
    "colab": {
      "name": "Assignment -1 - DS.ipynb",
      "provenance": [],
      "collapsed_sections": [],
      "include_colab_link": true
    },
    "kernelspec": {
      "name": "python3",
      "display_name": "Python 3"
    }
  },
  "cells": [
    {
      "cell_type": "markdown",
      "metadata": {
        "id": "view-in-github",
        "colab_type": "text"
      },
      "source": [
        "<a href=\"https://colab.research.google.com/github/sati99/SHALA2020/blob/master/Assignment_1_DS.ipynb\" target=\"_parent\"><img src=\"https://colab.research.google.com/assets/colab-badge.svg\" alt=\"Open In Colab\"/></a>"
      ]
    },
    {
      "cell_type": "markdown",
      "metadata": {
        "id": "hmr2U-GChnlR",
        "colab_type": "text"
      },
      "source": [
        "\n",
        "# **Assignment - 1 : Getting Started**\n",
        "\n",
        "---\n",
        "\n",
        "This assignment will get you familiarized with python libraries required for ***data science*** and ***machine learning***. You will have to complete the code snippets and run them. "
      ]
    },
    {
      "cell_type": "markdown",
      "metadata": {
        "id": "211pD45xEO0u",
        "colab_type": "text"
      },
      "source": [
        "## **Note :**   Use only the methods and attributes of the ```numpy``` library. **Do not** hard-code them. Avoid loops as much as possible."
      ]
    },
    {
      "cell_type": "markdown",
      "metadata": {
        "id": "O7v9C4mun3SQ",
        "colab_type": "text"
      },
      "source": [
        "---\n",
        "## Part - 1\n",
        " In this part, you will work with the library ```numpy```. \n",
        "\n",
        "\n"
      ]
    },
    {
      "cell_type": "markdown",
      "metadata": {
        "id": "846yDaXQwiMD",
        "colab_type": "text"
      },
      "source": [
        "Import ```numpy``` with an alias name ```np```. Initialize two arrays $a$, $b$ of size $3 \\times 5$ with random values and print them. "
      ]
    },
    {
      "cell_type": "code",
      "metadata": {
        "id": "_MyeCO3_o3oq",
        "colab_type": "code",
        "colab": {}
      },
      "source": [
        "import numpy as np\n"
      ],
      "execution_count": 0,
      "outputs": []
    },
    {
      "cell_type": "code",
      "metadata": {
        "id": "2qi0l1KtBuBw",
        "colab_type": "code",
        "colab": {
          "base_uri": "https://localhost:8080/",
          "height": 85
        },
        "outputId": "22c72445-31e6-418d-bcee-e28c9723de70"
      },
      "source": [
        "a= np.arange(15).reshape(3,5)\n",
        "print(a,\"\\n\")"
      ],
      "execution_count": 32,
      "outputs": [
        {
          "output_type": "stream",
          "text": [
            "[[ 0  1  2  3  4]\n",
            " [ 5  6  7  8  9]\n",
            " [10 11 12 13 14]] \n",
            "\n"
          ],
          "name": "stdout"
        }
      ]
    },
    {
      "cell_type": "code",
      "metadata": {
        "id": "pZ2CBssZCruQ",
        "colab_type": "code",
        "colab": {
          "base_uri": "https://localhost:8080/",
          "height": 85
        },
        "outputId": "4c1716af-e3f3-4d75-838b-4d49638b2c47"
      },
      "source": [
        "b= np.arange(15).reshape(3,5)\n",
        "print(b,\"\\n\")"
      ],
      "execution_count": 33,
      "outputs": [
        {
          "output_type": "stream",
          "text": [
            "[[ 0  1  2  3  4]\n",
            " [ 5  6  7  8  9]\n",
            " [10 11 12 13 14]] \n",
            "\n"
          ],
          "name": "stdout"
        }
      ]
    },
    {
      "cell_type": "markdown",
      "metadata": {
        "id": "p7jtpYT4wiO6",
        "colab_type": "text"
      },
      "source": [
        "Initialize and print two arrays $c$ and $d$ having the following properties:\n",
        "*   $c$ is a row vector with all non-negative integer values less than 100\n",
        "* $d$ is a square matrix of size 3 having all entries as 0.0"
      ]
    },
    {
      "cell_type": "code",
      "metadata": {
        "id": "a2lJdRf8x9f2",
        "colab_type": "code",
        "colab": {
          "base_uri": "https://localhost:8080/",
          "height": 119
        },
        "outputId": "0e3ea2af-4549-4cef-e4bb-901124834cb0"
      },
      "source": [
        "c= np.arange(100)\n",
        "print(c,\"\\n\")\n"
      ],
      "execution_count": 29,
      "outputs": [
        {
          "output_type": "stream",
          "text": [
            "[ 0  1  2  3  4  5  6  7  8  9 10 11 12 13 14 15 16 17 18 19 20 21 22 23\n",
            " 24 25 26 27 28 29 30 31 32 33 34 35 36 37 38 39 40 41 42 43 44 45 46 47\n",
            " 48 49 50 51 52 53 54 55 56 57 58 59 60 61 62 63 64 65 66 67 68 69 70 71\n",
            " 72 73 74 75 76 77 78 79 80 81 82 83 84 85 86 87 88 89 90 91 92 93 94 95\n",
            " 96 97 98 99] \n",
            "\n"
          ],
          "name": "stdout"
        }
      ]
    },
    {
      "cell_type": "code",
      "metadata": {
        "id": "lt_8LaMHFQdm",
        "colab_type": "code",
        "colab": {
          "base_uri": "https://localhost:8080/",
          "height": 85
        },
        "outputId": "214dbc2c-bacb-4300-8411-6904a31e91dd"
      },
      "source": [
        "d= np.zeros((3,3))\n",
        "print(d,\"\\n\")\n"
      ],
      "execution_count": 30,
      "outputs": [
        {
          "output_type": "stream",
          "text": [
            "[[0. 0. 0.]\n",
            " [0. 0. 0.]\n",
            " [0. 0. 0.]] \n",
            "\n"
          ],
          "name": "stdout"
        }
      ]
    },
    {
      "cell_type": "markdown",
      "metadata": {
        "id": "qqgtSsa88Zmh",
        "colab_type": "text"
      },
      "source": [
        "We have $e$ as following : ```e = [[1,2,3],[4,5,6],[7,8,9]]```. Change $e$ as a numpy array and print it."
      ]
    },
    {
      "cell_type": "code",
      "metadata": {
        "id": "Krhm4bVE7RET",
        "colab_type": "code",
        "colab": {
          "base_uri": "https://localhost:8080/",
          "height": 85
        },
        "outputId": "e0e9cc41-515c-42f1-953c-12beefdb1877"
      },
      "source": [
        "e = [[1,2,3],[4,5,6],[7,8,9]]\n",
        "e= np.arange(9).reshape(3,3)\n",
        "print(e,\"\\n\")\n"
      ],
      "execution_count": 31,
      "outputs": [
        {
          "output_type": "stream",
          "text": [
            "[[0 1 2]\n",
            " [3 4 5]\n",
            " [6 7 8]] \n",
            "\n"
          ],
          "name": "stdout"
        }
      ]
    },
    {
      "cell_type": "markdown",
      "metadata": {
        "id": "1qTikI0foam9",
        "colab_type": "text"
      },
      "source": [
        "$f$ and $g$ are two square matrices of size 5 such that all the entries of $f$ are 1 and $g$ is an identity matrix. Initialize them and print them"
      ]
    },
    {
      "cell_type": "code",
      "metadata": {
        "id": "DvaLckI49aBV",
        "colab_type": "code",
        "colab": {
          "base_uri": "https://localhost:8080/",
          "height": 119
        },
        "outputId": "63396f3b-357d-4210-a89c-b7e8a8195150"
      },
      "source": [
        "f= np.ones([5,5])\n",
        "print(f,\"\\n\")"
      ],
      "execution_count": 37,
      "outputs": [
        {
          "output_type": "stream",
          "text": [
            "[[1. 1. 1. 1. 1.]\n",
            " [1. 1. 1. 1. 1.]\n",
            " [1. 1. 1. 1. 1.]\n",
            " [1. 1. 1. 1. 1.]\n",
            " [1. 1. 1. 1. 1.]] \n",
            "\n"
          ],
          "name": "stdout"
        }
      ]
    },
    {
      "cell_type": "code",
      "metadata": {
        "id": "a4gaWsSaOQSe",
        "colab_type": "code",
        "colab": {
          "base_uri": "https://localhost:8080/",
          "height": 119
        },
        "outputId": "a7e90c61-01b7-43f7-effd-e28aee363523"
      },
      "source": [
        "g=np.eye(5)\n",
        "print(g,\"\\n\")"
      ],
      "execution_count": 52,
      "outputs": [
        {
          "output_type": "stream",
          "text": [
            "[[1. 0. 0. 0. 0.]\n",
            " [0. 1. 0. 0. 0.]\n",
            " [0. 0. 1. 0. 0.]\n",
            " [0. 0. 0. 1. 0.]\n",
            " [0. 0. 0. 0. 1.]] \n",
            "\n"
          ],
          "name": "stdout"
        }
      ]
    },
    {
      "cell_type": "markdown",
      "metadata": {
        "id": "gcBZAZibAKcg",
        "colab_type": "text"
      },
      "source": [
        "Reshape $c$ into a $10 \\times 10$ matrix and name it $h$. Now flatten $h$, call it $c^\\prime$ and print **YES** when the shapes of $c$ and $c^\\prime$ are same. Otherwise print **NO**."
      ]
    },
    {
      "cell_type": "code",
      "metadata": {
        "id": "I71vtO9bA9Pi",
        "colab_type": "code",
        "colab": {
          "base_uri": "https://localhost:8080/",
          "height": 34
        },
        "outputId": "329d7e37-e2f9-44c5-8b5e-e5192fc0e9b2"
      },
      "source": [
        "h= c.reshape([10,10])\n",
        "c_bar=h.flatten()\n",
        "if c_bar.shape[0] == c.shape[0]:\n",
        "  print (\"YES\")\n",
        "else:\n",
        "  print(\"NO\")\n",
        "\n"
      ],
      "execution_count": 43,
      "outputs": [
        {
          "output_type": "stream",
          "text": [
            "YES\n"
          ],
          "name": "stdout"
        }
      ]
    },
    {
      "cell_type": "markdown",
      "metadata": {
        "id": "8FrecDPiA-Bv",
        "colab_type": "text"
      },
      "source": [
        "Let $A$ denote a randomly initialized three dimensional matrix of shape (2,10,5). Transpose $A$, call it $A^\\prime$, such that its shape is (5,2,10) and print it."
      ]
    },
    {
      "cell_type": "code",
      "metadata": {
        "id": "VbOKqSm6Bkaq",
        "colab_type": "code",
        "colab": {
          "base_uri": "https://localhost:8080/",
          "height": 459
        },
        "outputId": "4327e9b6-c012-45a6-e046-e0e0ae9049dd"
      },
      "source": [
        "A = np.random.rand(2,10,5)\n",
        "A_bar=A.transpose(2,0,1)\n",
        "print(A_bar.shape)\n",
        "print(\"\\nA_bar:\",A_bar)"
      ],
      "execution_count": 50,
      "outputs": [
        {
          "output_type": "stream",
          "text": [
            "(5, 2, 10)\n",
            "\n",
            "A_bar: [[[0.67456402 0.91733356 0.43530596 0.97604355 0.14675148 0.21073239\n",
            "   0.29548229 0.05614104 0.08010364 0.13216114]\n",
            "  [0.35706161 0.17716116 0.52790398 0.75919605 0.860237   0.98732617\n",
            "   0.72885088 0.77032253 0.00311286 0.22028399]]\n",
            "\n",
            " [[0.79977654 0.71131452 0.92345622 0.15983365 0.72931892 0.60095425\n",
            "   0.73160647 0.8352716  0.904631   0.20645406]\n",
            "  [0.10806533 0.57240511 0.74007754 0.72291519 0.55890381 0.27808505\n",
            "   0.51668878 0.75062432 0.77489665 0.30209673]]\n",
            "\n",
            " [[0.08052953 0.55388461 0.7060518  0.20260213 0.18874507 0.74892838\n",
            "   0.94530844 0.19225002 0.37015418 0.07618881]\n",
            "  [0.78755184 0.04484533 0.14993148 0.17654903 0.40322047 0.00379367\n",
            "   0.70695625 0.61321121 0.8964166  0.88302851]]\n",
            "\n",
            " [[0.23170231 0.30451799 0.47803131 0.43118176 0.64389564 0.63821871\n",
            "   0.42556139 0.39509687 0.53069744 0.5079217 ]\n",
            "  [0.10658388 0.78711629 0.55108717 0.86196656 0.75874693 0.93390261\n",
            "   0.78052956 0.40186592 0.23931571 0.54316643]]\n",
            "\n",
            " [[0.20762566 0.83485405 0.1262101  0.40420191 0.75430595 0.5971273\n",
            "   0.78218182 0.30008105 0.49411627 0.26154955]\n",
            "  [0.98570882 0.18960595 0.21661721 0.0197751  0.716929   0.8578971\n",
            "   0.37487594 0.69730802 0.12076718 0.28671165]]]\n"
          ],
          "name": "stdout"
        }
      ]
    },
    {
      "cell_type": "markdown",
      "metadata": {
        "id": "xR2zd-nkCani",
        "colab_type": "text"
      },
      "source": [
        "You have a matrix $X$ of size (10,5) filled with random values. Print the following :\n",
        "* Minimum value and index where it occured, for each column\n",
        "* Maximum value and the index where it occured, for each column\n",
        "* Minimum value and index where it occured, for each row\n",
        "* Maximum value and index where it occured, for each row\n",
        "* Minimum value and index where it occured, for the entire matrix\n",
        "* Maximum value and index where it occured, for the entire matrix"
      ]
    },
    {
      "cell_type": "code",
      "metadata": {
        "id": "FR2Wd4fWD_Og",
        "colab_type": "code",
        "colab": {}
      },
      "source": [
        "np.random.seed(0)\n",
        "X = np.random.rand(10,5)"
      ],
      "execution_count": 0,
      "outputs": []
    },
    {
      "cell_type": "code",
      "metadata": {
        "id": "S-rvZVAVIFYl",
        "colab_type": "code",
        "colab": {
          "base_uri": "https://localhost:8080/",
          "height": 289
        },
        "outputId": "43fa51e3-733e-4408-d66f-5e9d1f183ec9"
      },
      "source": [
        "print(\"minimum value in each column:\",np.amin(X,axis=0))\n",
        "print(\"location of min value in each column:\",np.argwhere(X==np.amin(X,axis=0)))\n",
        "\n",
        "print(\"maximum value in each column:\",np.max(X,axis=0))\n",
        "print(\"location of max value in each column:\",np.argwhere(X==np.max(X,axis=0)))\n",
        "\n",
        "# print(\"minimum value in each row:\",np.amin(X,axis=1))\n",
        "# print(\"location of min value in each row:\",np.argwhere(X ==np.amin(X,axis=1)))\n",
        "\n",
        "# print(\"maximum value in each row:\",np.max(X,axis=1))\n",
        "# print(\"location o max value in each row:\",np.argwhere(X==np.max(X,axis=1)))\n",
        "\n",
        "print(\"maximum value :\",np.max(X))\n",
        "print(\"location of max value :\",np.argwhere(X==np.max(X)))\n",
        "\n",
        "print(\"minimum value :\",np.amin(X))\n",
        "print(\"location of min value :\",np.argwhere(X==np.amin(X)))"
      ],
      "execution_count": 104,
      "outputs": [
        {
          "output_type": "stream",
          "text": [
            "minimum value in each column: [0.07201204 0.08320264 0.02575348 0.01671559 0.03109708]\n",
            "location of min value in each column: [[1 4]\n",
            " [6 0]\n",
            " [6 2]\n",
            " [8 1]\n",
            " [9 3]]\n",
            "maximum value in each column: [0.96593307 0.99505232 0.77746875 0.98092368 0.87490255]\n",
            "location of max value in each column: [[1 1]\n",
            " [2 3]\n",
            " [2 4]\n",
            " [3 2]\n",
            " [7 0]]\n",
            "maximum value : 0.9950523223391111\n",
            "location of max value : [[1 1]]\n",
            "minimum value : 0.016715589077006432\n",
            "location of min value : [[9 3]]\n"
          ],
          "name": "stdout"
        }
      ]
    },
    {
      "cell_type": "markdown",
      "metadata": {
        "id": "YpjW2ypkEGtS",
        "colab_type": "text"
      },
      "source": [
        "Find and print the following for the matrix X: \n",
        "* Mean of each row and column\n",
        "* Standard deviation of each row and column\n",
        "* Mean of the entire matrix\n",
        "* Standard deviation of entire matrix"
      ]
    },
    {
      "cell_type": "code",
      "metadata": {
        "id": "gMdm2pw0GWjf",
        "colab_type": "code",
        "colab": {
          "base_uri": "https://localhost:8080/",
          "height": 34
        },
        "outputId": "4fe5e6a8-69af-40dd-9096-3b1590b2a2a7"
      },
      "source": [
        "X= np.random.rand(10,5)\n",
        "np.mean(X,axis=0) #mean of each column"
      ],
      "execution_count": 63,
      "outputs": [
        {
          "output_type": "execute_result",
          "data": {
            "text/plain": [
              "array([0.41938864, 0.49514185, 0.34950695, 0.56839753, 0.46077876])"
            ]
          },
          "metadata": {
            "tags": []
          },
          "execution_count": 63
        }
      ]
    },
    {
      "cell_type": "code",
      "metadata": {
        "id": "3B00qt8nc7o0",
        "colab_type": "code",
        "colab": {
          "base_uri": "https://localhost:8080/",
          "height": 51
        },
        "outputId": "23a2150d-11e9-4cbe-b0e4-50278d2e1933"
      },
      "source": [
        "np.mean(X,axis=1) #mean of each column"
      ],
      "execution_count": 64,
      "outputs": [
        {
          "output_type": "execute_result",
          "data": {
            "text/plain": [
              "array([0.54144651, 0.39551632, 0.64768594, 0.59222849, 0.37326246,\n",
              "       0.50809569, 0.26211302, 0.60507753, 0.32293325, 0.33806827])"
            ]
          },
          "metadata": {
            "tags": []
          },
          "execution_count": 64
        }
      ]
    },
    {
      "cell_type": "code",
      "metadata": {
        "id": "vTzvgOaQcOJW",
        "colab_type": "code",
        "colab": {
          "base_uri": "https://localhost:8080/",
          "height": 34
        },
        "outputId": "2d5cbd4d-84ac-474f-8f44-40c8fe615071"
      },
      "source": [
        "np.std(X,axis=0)"
      ],
      "execution_count": 65,
      "outputs": [
        {
          "output_type": "execute_result",
          "data": {
            "text/plain": [
              "array([0.27313064, 0.33201854, 0.27294521, 0.28514944, 0.24188915])"
            ]
          },
          "metadata": {
            "tags": []
          },
          "execution_count": 65
        }
      ]
    },
    {
      "cell_type": "code",
      "metadata": {
        "id": "C7sfp-jode7G",
        "colab_type": "code",
        "colab": {
          "base_uri": "https://localhost:8080/",
          "height": 51
        },
        "outputId": "3fa8faf0-18d1-4abe-b536-14b85adc5837"
      },
      "source": [
        "np.std(X,axis=1)"
      ],
      "execution_count": 66,
      "outputs": [
        {
          "output_type": "execute_result",
          "data": {
            "text/plain": [
              "array([0.35772332, 0.35241205, 0.27824468, 0.12733803, 0.21849975,\n",
              "       0.20674539, 0.18733023, 0.29023974, 0.25976149, 0.24841673])"
            ]
          },
          "metadata": {
            "tags": []
          },
          "execution_count": 66
        }
      ]
    },
    {
      "cell_type": "code",
      "metadata": {
        "id": "IR2DWa3JcYwC",
        "colab_type": "code",
        "colab": {
          "base_uri": "https://localhost:8080/",
          "height": 34
        },
        "outputId": "0e9cc239-62aa-4757-b9bd-9313c46005b4"
      },
      "source": [
        "np.mean(X)"
      ],
      "execution_count": 67,
      "outputs": [
        {
          "output_type": "execute_result",
          "data": {
            "text/plain": [
              "0.45864274636093716"
            ]
          },
          "metadata": {
            "tags": []
          },
          "execution_count": 67
        }
      ]
    },
    {
      "cell_type": "code",
      "metadata": {
        "id": "NQPWWgtSdm2F",
        "colab_type": "code",
        "colab": {
          "base_uri": "https://localhost:8080/",
          "height": 34
        },
        "outputId": "b38f2fb2-f2c6-4f3d-ec6c-37bd61f0c65f"
      },
      "source": [
        "np.std(X)"
      ],
      "execution_count": 79,
      "outputs": [
        {
          "output_type": "execute_result",
          "data": {
            "text/plain": [
              "0.29188719465085383"
            ]
          },
          "metadata": {
            "tags": []
          },
          "execution_count": 79
        }
      ]
    },
    {
      "cell_type": "markdown",
      "metadata": {
        "id": "7dw7W8HOGXKA",
        "colab_type": "text"
      },
      "source": [
        "Let $Y$ denote a square matrix of size 10 with random values. Print the following:\n",
        "* Determinant\n",
        "* Rank of the matrix\n",
        "* Diagonal Elements\n",
        "* Trace\n",
        "* Eigen values\n",
        "* Matrices obtained after Singular Value Decomposition\n",
        "* Inverse if exists, otherwise Pseudo-Inverse\n",
        "* Multiplication $Y$ with $X$\n",
        "* Element-wise multiplication of $Y$ and its inverse(or pseudo-inverse)"
      ]
    },
    {
      "cell_type": "code",
      "metadata": {
        "id": "Tswbn9hgL7yi",
        "colab_type": "code",
        "colab": {
          "base_uri": "https://localhost:8080/",
          "height": 1000
        },
        "outputId": "fe1cb06e-f99d-4a41-ef44-29f7408e90c0"
      },
      "source": [
        "np.random.seed(3)\n",
        "Y = np.random.rand(10,10)\n",
        "print(\"determinant:\",np.linalg.det(Y))\n",
        "print(\"Rank of the matrix:\",np.linalg.matrix_rank(Y))\n",
        "print(\"diagonal elements of the matrix:\",np.diag(Y))\n",
        "print(\"trace:\",np.trace(Y))\n",
        "print(\"eigen values:\",np.linalg.eig(Y))\n",
        "print(\"svd:\",np.linalg.svd(Y))\n",
        "print(\"Multiplication:\",np.matmul(Y,X))\n",
        "Y_inv= np.linalg.inv(Y)\n",
        "print(\"multiplication with inverse:\",Y*Y_inv)\n"
      ],
      "execution_count": 86,
      "outputs": [
        {
          "output_type": "stream",
          "text": [
            "determinant: -0.012807808169095483\n",
            "Rank of the matrix: 10\n",
            "diagonal elements of the matrix: [0.5507979  0.45683322 0.44045372 0.84575087 0.4576864  0.36217621\n",
            " 0.06152893 0.19897603 0.92672568 0.19638058]\n",
            "trace: 4.497309545724899\n",
            "eigen values: (array([ 4.797525  +0.j        ,  0.72411408+0.52238181j,\n",
            "        0.72411408-0.52238181j, -0.48250062+0.55413671j,\n",
            "       -0.48250062-0.55413671j, -0.6909002 +0.j        ,\n",
            "       -0.25905659+0.32357377j, -0.25905659-0.32357377j,\n",
            "        0.2127855 +0.08352477j,  0.2127855 -0.08352477j]), array([[ 0.29593906+0.j        ,  0.14213977+0.19798456j,\n",
            "         0.14213977-0.19798456j, -0.37236549+0.00325385j,\n",
            "        -0.37236549-0.00325385j, -0.1096481 +0.j        ,\n",
            "        -0.0132423 +0.12273111j, -0.0132423 -0.12273111j,\n",
            "        -0.56228934-0.10973258j, -0.56228934+0.10973258j],\n",
            "       [ 0.25059285+0.j        ,  0.01404552+0.1967944j ,\n",
            "         0.01404552-0.1967944j , -0.16781094-0.17307308j,\n",
            "        -0.16781094+0.17307308j, -0.29711444+0.j        ,\n",
            "        -0.04108937-0.4113554j , -0.04108937+0.4113554j ,\n",
            "         0.61892544+0.j        ,  0.61892544-0.j        ],\n",
            "       [ 0.31416894+0.j        , -0.24186998+0.15655466j,\n",
            "        -0.24186998-0.15655466j, -0.16993115+0.15284371j,\n",
            "        -0.16993115-0.15284371j,  0.36362726+0.j        ,\n",
            "        -0.10206063+0.15541211j, -0.10206063-0.15541211j,\n",
            "         0.16701388+0.18450241j,  0.16701388-0.18450241j],\n",
            "       [ 0.36027404+0.j        ,  0.52448941+0.j        ,\n",
            "         0.52448941-0.j        ,  0.48969059+0.j        ,\n",
            "         0.48969059-0.j        ,  0.17074825+0.j        ,\n",
            "         0.14078898+0.01851681j,  0.14078898-0.01851681j,\n",
            "        -0.13278372+0.03975259j, -0.13278372-0.03975259j],\n",
            "       [ 0.27990836+0.j        , -0.13624801+0.01805996j,\n",
            "        -0.13624801-0.01805996j, -0.0731246 -0.10412128j,\n",
            "        -0.0731246 +0.10412128j,  0.13537705+0.j        ,\n",
            "        -0.29263074+0.368267j  , -0.29263074-0.368267j  ,\n",
            "        -0.07942445-0.1381196j , -0.07942445+0.1381196j ],\n",
            "       [ 0.30697292+0.j        , -0.2288709 -0.09164898j,\n",
            "        -0.2288709 +0.09164898j,  0.34166486-0.10037728j,\n",
            "         0.34166486+0.10037728j,  0.38961338+0.j        ,\n",
            "         0.1575938 -0.27237341j,  0.1575938 +0.27237341j,\n",
            "        -0.05056956+0.01833742j, -0.05056956-0.01833742j],\n",
            "       [ 0.28526996+0.j        , -0.07276121-0.22120787j,\n",
            "        -0.07276121+0.22120787j, -0.09920762+0.30369397j,\n",
            "        -0.09920762-0.30369397j, -0.38942645+0.j        ,\n",
            "        -0.35795075-0.21303717j, -0.35795075+0.21303717j,\n",
            "         0.25824685-0.05397791j,  0.25824685+0.05397791j],\n",
            "       [ 0.23358056+0.j        ,  0.33195752+0.22875065j,\n",
            "         0.33195752-0.22875065j,  0.22899202+0.29805206j,\n",
            "         0.22899202-0.29805206j, -0.15526644+0.j        ,\n",
            "         0.47450761+0.j        ,  0.47450761-0.j        ,\n",
            "         0.01343252-0.05360821j,  0.01343252+0.05360821j],\n",
            "       [ 0.39548419+0.j        , -0.14569343-0.47441452j,\n",
            "        -0.14569343+0.47441452j, -0.29937425-0.1334132j ,\n",
            "        -0.29937425+0.1334132j ,  0.26931546+0.j        ,\n",
            "         0.07126882+0.08476271j,  0.07126882-0.08476271j,\n",
            "        -0.02419704-0.00279054j, -0.02419704+0.00279054j],\n",
            "       [ 0.3952166 +0.j        , -0.02644966-0.01254236j,\n",
            "        -0.02644966+0.01254236j,  0.09200666-0.09461051j,\n",
            "         0.09200666+0.09461051j, -0.5656002 +0.j        ,\n",
            "         0.04736886+0.16022229j,  0.04736886-0.16022229j,\n",
            "        -0.31202472+0.09318458j, -0.31202472-0.09318458j]]))\n",
            "svd: (array([[-0.31776408, -0.02455508, -0.60644878, -0.17883359, -0.12672161,\n",
            "         0.14873878, -0.17823942, -0.52859453, -0.02295855, -0.38570883],\n",
            "       [-0.26118514, -0.10864541, -0.24911354,  0.26547359,  0.52168399,\n",
            "        -0.25773901, -0.46995326,  0.21752636, -0.39285046,  0.16234491],\n",
            "       [-0.31347907, -0.34483471, -0.25292297,  0.1214296 ,  0.1486964 ,\n",
            "         0.33436315,  0.54080229,  0.48017168,  0.05660692, -0.20966421],\n",
            "       [-0.35815379,  0.59490017,  0.30255161,  0.15850614, -0.11046295,\n",
            "         0.3051409 ,  0.07395537,  0.03044889, -0.50561658, -0.18384856],\n",
            "       [-0.28385845, -0.18085696, -0.1583078 ,  0.10535533, -0.46807835,\n",
            "        -0.08377643,  0.24075452, -0.16170764, -0.24786952,  0.69201648],\n",
            "       [-0.28871348, -0.27577124,  0.40271105,  0.60433658,  0.11931679,\n",
            "        -0.04899205,  0.02593316, -0.44875145,  0.27874747, -0.12964796],\n",
            "       [-0.27897316,  0.00398904,  0.20819753, -0.52536617,  0.41116881,\n",
            "        -0.41991923,  0.42687225, -0.24145621, -0.12958507, -0.00984813],\n",
            "       [-0.24788529,  0.48136836, -0.15792433, -0.02303902,  0.3246308 ,\n",
            "         0.25755952, -0.01429533, -0.03088365,  0.56052488,  0.44079262],\n",
            "       [-0.37505167, -0.36728578,  0.39799373, -0.45186801, -0.10830044,\n",
            "         0.34456765, -0.4447402 ,  0.14147957,  0.0716725 ,  0.09192695],\n",
            "       [-0.40049601,  0.19846099, -0.02705464,  0.02500837, -0.39745062,\n",
            "        -0.57941613, -0.10288216,  0.3673956 ,  0.33321483, -0.22039139]]), array([4.89636645, 1.42832104, 1.17173389, 0.94068764, 0.76892251,\n",
            "       0.62457278, 0.52105948, 0.28969576, 0.24512275, 0.09350223]), array([[-0.28816735, -0.35560525, -0.33294235, -0.33250662, -0.36658188,\n",
            "        -0.3625847 , -0.26573249, -0.23278667, -0.30457183, -0.29270444],\n",
            "       [ 0.53693497,  0.11306854,  0.39562078,  0.25099719, -0.07369559,\n",
            "        -0.37753546, -0.08584363,  0.00333609, -0.2399022 , -0.51623983],\n",
            "       [-0.084609  , -0.22589744, -0.00306935,  0.1954239 , -0.327784  ,\n",
            "        -0.49318928,  0.42323124,  0.18588504,  0.58200169,  0.02301787],\n",
            "       [ 0.01388163, -0.2631197 ,  0.42190391, -0.53612946,  0.01058633,\n",
            "        -0.04415909,  0.29385139,  0.49501812, -0.32731018,  0.15669071],\n",
            "       [-0.27340804,  0.28220631,  0.28945859, -0.1626885 ,  0.14790418,\n",
            "        -0.35915036, -0.64971879,  0.23854611,  0.29589227,  0.1337842 ],\n",
            "       [ 0.10830593,  0.27974551, -0.20571161,  0.10308827,  0.10096026,\n",
            "        -0.5325142 ,  0.15994871, -0.16150892, -0.3941055 ,  0.59692177],\n",
            "       [ 0.44882085,  0.34972045, -0.01773924, -0.50737391, -0.52251393,\n",
            "         0.11970007, -0.02807841, -0.20137782,  0.25705553,  0.15409283],\n",
            "       [-0.35599817, -0.05022624,  0.63427946,  0.20935183, -0.34847081,\n",
            "         0.11510691,  0.03182222, -0.47748403, -0.1161671 ,  0.21777064],\n",
            "       [ 0.18417681, -0.32168889,  0.15954963, -0.32397524,  0.5548368 ,\n",
            "        -0.1807982 ,  0.08626619, -0.55063636,  0.28439362, -0.01119242],\n",
            "       [-0.41560913,  0.59522266,  0.02089304, -0.23979844,  0.13515565,\n",
            "        -0.0893732 ,  0.44674689, -0.10709455, -0.02239562, -0.42098815]]))\n",
            "Multiplication: [[1.89075079 2.95222954 1.50477837 2.63201308 1.92982457]\n",
            " [1.9405492  1.78278025 1.63226902 2.27222858 1.88895371]\n",
            " [2.0964364  2.48766918 1.45708958 2.37752273 1.89160142]\n",
            " [2.29949853 2.97130609 1.99677503 3.65300908 2.92748266]\n",
            " [1.72222645 2.45502707 1.37640362 2.26357318 1.83026596]\n",
            " [2.09538336 1.67676379 1.61890653 2.48808392 2.288287  ]\n",
            " [1.60045761 2.18712081 1.59903078 2.65359238 1.60155631]\n",
            " [1.45886269 2.11798082 1.232527   2.64316334 1.85224637]\n",
            " [2.20629523 2.75316484 2.02684263 2.87138387 2.3006167 ]\n",
            " [2.3156702  3.28085361 2.2720564  3.7984726  2.89787692]]\n",
            "multiplication with inverse: [[ 1.27493732 -1.36152035  0.22231307  0.39894092 -2.44889439  1.07712104\n",
            "   0.04859294 -0.2852999  -0.04965769  0.36641545]\n",
            " [-0.06707332  0.57380876 -0.59374754 -0.11024655  3.19073041 -0.78089721\n",
            "   0.01261327  1.33771879  0.0856878  -0.96942775]\n",
            " [-0.40059519  0.45851031  0.4182905  -0.02959976 -0.27270348 -0.43436174\n",
            "  -0.16934292  0.12737041 -0.01633217  1.03962504]\n",
            " [ 0.85937499  0.24915472  0.14113555  1.05928794 -0.68499915 -0.06684976\n",
            "  -0.12815691 -1.01396696  0.20588942  0.11753784]\n",
            " [ 0.16156588 -0.13525516 -0.29583776 -0.46093327  0.16696753  0.77650726\n",
            "  -0.27989737  0.59507263  0.14910237 -0.02073997]\n",
            " [ 0.07408776  0.04623354  0.17182269  0.00904331 -0.03240383 -0.13457945\n",
            "   0.16257474 -0.94304237 -0.3119112   0.51984891]\n",
            " [-0.75110573  0.12926687 -0.34458549 -0.42560628  1.1613394  -0.14196631\n",
            "  -0.04129586  0.48842239  0.70803941 -0.16015134]\n",
            " [ 0.81624763  0.5597184  -0.64424426  0.61963734 -0.08500859  0.04665222\n",
            "   0.03928204 -0.33781095 -0.09232803 -0.10080329]\n",
            " [-0.02171434 -0.34965513 -0.01015706 -0.70063053 -0.31642589  0.36684179\n",
            "   0.62621827  0.09938639 -0.03166521  0.35532547]\n",
            " [ 1.01240745 -0.36009522  1.65588343  0.74979192 -2.12594439  0.40286315\n",
            "  -0.25535869 -0.69570551 -0.02440717  0.10914197]]\n"
          ],
          "name": "stdout"
        }
      ]
    },
    {
      "cell_type": "markdown",
      "metadata": {
        "id": "Qne3RnfOL6-4",
        "colab_type": "text"
      },
      "source": [
        "## End of Part - 1\n",
        " --- --- ---"
      ]
    },
    {
      "cell_type": "markdown",
      "metadata": {
        "id": "LA-m4UYkMPTe",
        "colab_type": "text"
      },
      "source": [
        "## Part - 2\n",
        "---\n",
        "In this part, you will be working with the library ```pandas```. Import this library with an alias name ```pd```."
      ]
    },
    {
      "cell_type": "code",
      "metadata": {
        "id": "i8z7TpnZSIms",
        "colab_type": "code",
        "colab": {}
      },
      "source": [
        "# Initial imports\n",
        "import numpy as np\n",
        "import matplotlib.pyplot as plt\n",
        "import pandas as pd"
      ],
      "execution_count": 0,
      "outputs": []
    },
    {
      "cell_type": "markdown",
      "metadata": {
        "id": "2v-HkHnyuQ3X",
        "colab_type": "text"
      },
      "source": [
        "Download dataset from: http://biostat.mc.vanderbilt.edu/wiki/pub/Main/DataSets/titanic3.csv\n",
        "Read the data and display the first 5 rows"
      ]
    },
    {
      "cell_type": "code",
      "metadata": {
        "id": "LinX5ywNTUIm",
        "colab_type": "code",
        "colab": {}
      },
      "source": [
        "#Download dataset from: http://biostat.mc.vanderbilt.edu/wiki/pub/Main/DataSets/titanic3.csv\n",
        "\n",
        "file_url = \"http://biostat.mc.vanderbilt.edu/wiki/pub/Main/DataSets/titanic3.csv\"\n",
        "\n"
      ],
      "execution_count": 0,
      "outputs": []
    },
    {
      "cell_type": "code",
      "metadata": {
        "id": "LHExRuoVEYzb",
        "colab_type": "code",
        "colab": {
          "base_uri": "https://localhost:8080/",
          "height": 272
        },
        "outputId": "3bf154a2-f0ac-4d60-dab0-9c145dd32fbf"
      },
      "source": [
        "file_url = \"http://biostat.mc.vanderbilt.edu/wiki/pub/Main/DataSets/titanic3.csv\"\n",
        "data=pd.read_csv(file_url)\n",
        "data.head()"
      ],
      "execution_count": 99,
      "outputs": [
        {
          "output_type": "execute_result",
          "data": {
            "text/html": [
              "<div>\n",
              "<style scoped>\n",
              "    .dataframe tbody tr th:only-of-type {\n",
              "        vertical-align: middle;\n",
              "    }\n",
              "\n",
              "    .dataframe tbody tr th {\n",
              "        vertical-align: top;\n",
              "    }\n",
              "\n",
              "    .dataframe thead th {\n",
              "        text-align: right;\n",
              "    }\n",
              "</style>\n",
              "<table border=\"1\" class=\"dataframe\">\n",
              "  <thead>\n",
              "    <tr style=\"text-align: right;\">\n",
              "      <th></th>\n",
              "      <th>pclass</th>\n",
              "      <th>survived</th>\n",
              "      <th>name</th>\n",
              "      <th>sex</th>\n",
              "      <th>age</th>\n",
              "      <th>sibsp</th>\n",
              "      <th>parch</th>\n",
              "      <th>ticket</th>\n",
              "      <th>fare</th>\n",
              "      <th>cabin</th>\n",
              "      <th>embarked</th>\n",
              "      <th>boat</th>\n",
              "      <th>body</th>\n",
              "      <th>home.dest</th>\n",
              "    </tr>\n",
              "  </thead>\n",
              "  <tbody>\n",
              "    <tr>\n",
              "      <th>0</th>\n",
              "      <td>1</td>\n",
              "      <td>1</td>\n",
              "      <td>Allen, Miss. Elisabeth Walton</td>\n",
              "      <td>female</td>\n",
              "      <td>29.00</td>\n",
              "      <td>0</td>\n",
              "      <td>0</td>\n",
              "      <td>24160</td>\n",
              "      <td>211.3375</td>\n",
              "      <td>B5</td>\n",
              "      <td>S</td>\n",
              "      <td>2</td>\n",
              "      <td>NaN</td>\n",
              "      <td>St Louis, MO</td>\n",
              "    </tr>\n",
              "    <tr>\n",
              "      <th>1</th>\n",
              "      <td>1</td>\n",
              "      <td>1</td>\n",
              "      <td>Allison, Master. Hudson Trevor</td>\n",
              "      <td>male</td>\n",
              "      <td>0.92</td>\n",
              "      <td>1</td>\n",
              "      <td>2</td>\n",
              "      <td>113781</td>\n",
              "      <td>151.5500</td>\n",
              "      <td>C22 C26</td>\n",
              "      <td>S</td>\n",
              "      <td>11</td>\n",
              "      <td>NaN</td>\n",
              "      <td>Montreal, PQ / Chesterville, ON</td>\n",
              "    </tr>\n",
              "    <tr>\n",
              "      <th>2</th>\n",
              "      <td>1</td>\n",
              "      <td>0</td>\n",
              "      <td>Allison, Miss. Helen Loraine</td>\n",
              "      <td>female</td>\n",
              "      <td>2.00</td>\n",
              "      <td>1</td>\n",
              "      <td>2</td>\n",
              "      <td>113781</td>\n",
              "      <td>151.5500</td>\n",
              "      <td>C22 C26</td>\n",
              "      <td>S</td>\n",
              "      <td>NaN</td>\n",
              "      <td>NaN</td>\n",
              "      <td>Montreal, PQ / Chesterville, ON</td>\n",
              "    </tr>\n",
              "    <tr>\n",
              "      <th>3</th>\n",
              "      <td>1</td>\n",
              "      <td>0</td>\n",
              "      <td>Allison, Mr. Hudson Joshua Creighton</td>\n",
              "      <td>male</td>\n",
              "      <td>30.00</td>\n",
              "      <td>1</td>\n",
              "      <td>2</td>\n",
              "      <td>113781</td>\n",
              "      <td>151.5500</td>\n",
              "      <td>C22 C26</td>\n",
              "      <td>S</td>\n",
              "      <td>NaN</td>\n",
              "      <td>135.0</td>\n",
              "      <td>Montreal, PQ / Chesterville, ON</td>\n",
              "    </tr>\n",
              "    <tr>\n",
              "      <th>4</th>\n",
              "      <td>1</td>\n",
              "      <td>0</td>\n",
              "      <td>Allison, Mrs. Hudson J C (Bessie Waldo Daniels)</td>\n",
              "      <td>female</td>\n",
              "      <td>25.00</td>\n",
              "      <td>1</td>\n",
              "      <td>2</td>\n",
              "      <td>113781</td>\n",
              "      <td>151.5500</td>\n",
              "      <td>C22 C26</td>\n",
              "      <td>S</td>\n",
              "      <td>NaN</td>\n",
              "      <td>NaN</td>\n",
              "      <td>Montreal, PQ / Chesterville, ON</td>\n",
              "    </tr>\n",
              "  </tbody>\n",
              "</table>\n",
              "</div>"
            ],
            "text/plain": [
              "   pclass  survived  ...   body                        home.dest\n",
              "0       1         1  ...    NaN                     St Louis, MO\n",
              "1       1         1  ...    NaN  Montreal, PQ / Chesterville, ON\n",
              "2       1         0  ...    NaN  Montreal, PQ / Chesterville, ON\n",
              "3       1         0  ...  135.0  Montreal, PQ / Chesterville, ON\n",
              "4       1         0  ...    NaN  Montreal, PQ / Chesterville, ON\n",
              "\n",
              "[5 rows x 14 columns]"
            ]
          },
          "metadata": {
            "tags": []
          },
          "execution_count": 99
        }
      ]
    },
    {
      "cell_type": "markdown",
      "metadata": {
        "id": "YbLYkU7iB6C9",
        "colab_type": "text"
      },
      "source": [
        "data=pd.read_csv(data=pd.read_csv(file_url)\n",
        "data.head(5)"
      ]
    },
    {
      "cell_type": "markdown",
      "metadata": {
        "id": "vTk1-mF5WYFN",
        "colab_type": "text"
      },
      "source": [
        "### Preprocessing of the Dataset"
      ]
    },
    {
      "cell_type": "markdown",
      "metadata": {
        "id": "kx9UrI9WWt17",
        "colab_type": "text"
      },
      "source": [
        "\n",
        "\n",
        "---\n",
        "\n",
        "\n",
        "**1. Convert the categorical values of columns 'sex', 'embarked', 'pclass' into dummy values and add them into titanic_data_new DataFrame**\n",
        "\n",
        "\n",
        "\n",
        "\n",
        "---\n",
        "\n"
      ]
    },
    {
      "cell_type": "code",
      "metadata": {
        "id": "AwDh9njbZ0QU",
        "colab_type": "code",
        "colab": {
          "base_uri": "https://localhost:8080/",
          "height": 204
        },
        "outputId": "ffd29cb1-f8a9-4769-a40e-061a50470f2f"
      },
      "source": [
        "sex = pd.get_dummies(data[\"sex\"], drop_first=True)\n",
        "embarked = pd.get_dummies(data[\"embarked\"], drop_first=True)\n",
        "pclass = pd.get_dummies(data[\"pclass\"], drop_first=True)\n",
        "\n",
        "titanic_data_new=pd.concat([sex,embarked,pclass],axis=1)\n",
        "titanic_data_new.head()"
      ],
      "execution_count": 98,
      "outputs": [
        {
          "output_type": "execute_result",
          "data": {
            "text/html": [
              "<div>\n",
              "<style scoped>\n",
              "    .dataframe tbody tr th:only-of-type {\n",
              "        vertical-align: middle;\n",
              "    }\n",
              "\n",
              "    .dataframe tbody tr th {\n",
              "        vertical-align: top;\n",
              "    }\n",
              "\n",
              "    .dataframe thead th {\n",
              "        text-align: right;\n",
              "    }\n",
              "</style>\n",
              "<table border=\"1\" class=\"dataframe\">\n",
              "  <thead>\n",
              "    <tr style=\"text-align: right;\">\n",
              "      <th></th>\n",
              "      <th>male</th>\n",
              "      <th>Q</th>\n",
              "      <th>S</th>\n",
              "      <th>2</th>\n",
              "      <th>3</th>\n",
              "    </tr>\n",
              "  </thead>\n",
              "  <tbody>\n",
              "    <tr>\n",
              "      <th>0</th>\n",
              "      <td>0</td>\n",
              "      <td>0</td>\n",
              "      <td>1</td>\n",
              "      <td>0</td>\n",
              "      <td>0</td>\n",
              "    </tr>\n",
              "    <tr>\n",
              "      <th>1</th>\n",
              "      <td>1</td>\n",
              "      <td>0</td>\n",
              "      <td>1</td>\n",
              "      <td>0</td>\n",
              "      <td>0</td>\n",
              "    </tr>\n",
              "    <tr>\n",
              "      <th>2</th>\n",
              "      <td>0</td>\n",
              "      <td>0</td>\n",
              "      <td>1</td>\n",
              "      <td>0</td>\n",
              "      <td>0</td>\n",
              "    </tr>\n",
              "    <tr>\n",
              "      <th>3</th>\n",
              "      <td>1</td>\n",
              "      <td>0</td>\n",
              "      <td>1</td>\n",
              "      <td>0</td>\n",
              "      <td>0</td>\n",
              "    </tr>\n",
              "    <tr>\n",
              "      <th>4</th>\n",
              "      <td>0</td>\n",
              "      <td>0</td>\n",
              "      <td>1</td>\n",
              "      <td>0</td>\n",
              "      <td>0</td>\n",
              "    </tr>\n",
              "  </tbody>\n",
              "</table>\n",
              "</div>"
            ],
            "text/plain": [
              "   male  Q  S  2  3\n",
              "0     0  0  1  0  0\n",
              "1     1  0  1  0  0\n",
              "2     0  0  1  0  0\n",
              "3     1  0  1  0  0\n",
              "4     0  0  1  0  0"
            ]
          },
          "metadata": {
            "tags": []
          },
          "execution_count": 98
        }
      ]
    },
    {
      "cell_type": "markdown",
      "metadata": {
        "id": "Z9bxOfzDbY-n",
        "colab_type": "text"
      },
      "source": [
        "\n",
        "\n",
        "---\n",
        "\n",
        "\n",
        "**2. Fill the missing data in Age and Fare columns with the mean value of the respected column then add these columns to titanic_data_new**\n",
        "\n",
        "\n",
        "---\n",
        "\n"
      ]
    },
    {
      "cell_type": "code",
      "metadata": {
        "id": "DNx7Pr0ehhAs",
        "colab_type": "code",
        "colab": {
          "base_uri": "https://localhost:8080/",
          "height": 204
        },
        "outputId": "11342dc2-2e9a-4e17-fdfc-04c6c127e32c"
      },
      "source": [
        "data[\"age\"].fillna(value=data[\"age\"].mean())\n",
        "data[\"fare\"].fillna(value=data[\"fare\"].mean())\n",
        "titanic_data_new=pd.concat([titanic_data_new,data[\"age\"],data[\"fare\"]],axis=1)\n",
        "titanic_data_new.head()"
      ],
      "execution_count": 100,
      "outputs": [
        {
          "output_type": "execute_result",
          "data": {
            "text/html": [
              "<div>\n",
              "<style scoped>\n",
              "    .dataframe tbody tr th:only-of-type {\n",
              "        vertical-align: middle;\n",
              "    }\n",
              "\n",
              "    .dataframe tbody tr th {\n",
              "        vertical-align: top;\n",
              "    }\n",
              "\n",
              "    .dataframe thead th {\n",
              "        text-align: right;\n",
              "    }\n",
              "</style>\n",
              "<table border=\"1\" class=\"dataframe\">\n",
              "  <thead>\n",
              "    <tr style=\"text-align: right;\">\n",
              "      <th></th>\n",
              "      <th>male</th>\n",
              "      <th>Q</th>\n",
              "      <th>S</th>\n",
              "      <th>2</th>\n",
              "      <th>3</th>\n",
              "      <th>age</th>\n",
              "      <th>fare</th>\n",
              "    </tr>\n",
              "  </thead>\n",
              "  <tbody>\n",
              "    <tr>\n",
              "      <th>0</th>\n",
              "      <td>0</td>\n",
              "      <td>0</td>\n",
              "      <td>1</td>\n",
              "      <td>0</td>\n",
              "      <td>0</td>\n",
              "      <td>29.00</td>\n",
              "      <td>211.3375</td>\n",
              "    </tr>\n",
              "    <tr>\n",
              "      <th>1</th>\n",
              "      <td>1</td>\n",
              "      <td>0</td>\n",
              "      <td>1</td>\n",
              "      <td>0</td>\n",
              "      <td>0</td>\n",
              "      <td>0.92</td>\n",
              "      <td>151.5500</td>\n",
              "    </tr>\n",
              "    <tr>\n",
              "      <th>2</th>\n",
              "      <td>0</td>\n",
              "      <td>0</td>\n",
              "      <td>1</td>\n",
              "      <td>0</td>\n",
              "      <td>0</td>\n",
              "      <td>2.00</td>\n",
              "      <td>151.5500</td>\n",
              "    </tr>\n",
              "    <tr>\n",
              "      <th>3</th>\n",
              "      <td>1</td>\n",
              "      <td>0</td>\n",
              "      <td>1</td>\n",
              "      <td>0</td>\n",
              "      <td>0</td>\n",
              "      <td>30.00</td>\n",
              "      <td>151.5500</td>\n",
              "    </tr>\n",
              "    <tr>\n",
              "      <th>4</th>\n",
              "      <td>0</td>\n",
              "      <td>0</td>\n",
              "      <td>1</td>\n",
              "      <td>0</td>\n",
              "      <td>0</td>\n",
              "      <td>25.00</td>\n",
              "      <td>151.5500</td>\n",
              "    </tr>\n",
              "  </tbody>\n",
              "</table>\n",
              "</div>"
            ],
            "text/plain": [
              "   male  Q  S  2  3    age      fare\n",
              "0     0  0  1  0  0  29.00  211.3375\n",
              "1     1  0  1  0  0   0.92  151.5500\n",
              "2     0  0  1  0  0   2.00  151.5500\n",
              "3     1  0  1  0  0  30.00  151.5500\n",
              "4     0  0  1  0  0  25.00  151.5500"
            ]
          },
          "metadata": {
            "tags": []
          },
          "execution_count": 100
        }
      ]
    },
    {
      "cell_type": "markdown",
      "metadata": {
        "id": "SlRzKfhxkd1M",
        "colab_type": "text"
      },
      "source": [
        "###Normalization\n",
        "\n",
        "\n",
        "---\n",
        "\n",
        "\n",
        "\n",
        "1. Normalize the columns which have numerical data\n",
        "\n",
        "\n",
        "\n",
        "---\n",
        "\n"
      ]
    },
    {
      "cell_type": "code",
      "metadata": {
        "id": "Y3hpu92TlM38",
        "colab_type": "code",
        "colab": {
          "base_uri": "https://localhost:8080/",
          "height": 204
        },
        "outputId": "3e848da0-c56d-4371-c2de-a5fad5aedbb8"
      },
      "source": [
        "normalized_df=pd.concat([data[\"fare\"],data[\"age\"]],axis=1)\n",
        "normalized_df=(normalized_df-normalized_df.min())/(normalized_df.max()-normalized_df.min())\n",
        "normalized_df.head()"
      ],
      "execution_count": 101,
      "outputs": [
        {
          "output_type": "execute_result",
          "data": {
            "text/html": [
              "<div>\n",
              "<style scoped>\n",
              "    .dataframe tbody tr th:only-of-type {\n",
              "        vertical-align: middle;\n",
              "    }\n",
              "\n",
              "    .dataframe tbody tr th {\n",
              "        vertical-align: top;\n",
              "    }\n",
              "\n",
              "    .dataframe thead th {\n",
              "        text-align: right;\n",
              "    }\n",
              "</style>\n",
              "<table border=\"1\" class=\"dataframe\">\n",
              "  <thead>\n",
              "    <tr style=\"text-align: right;\">\n",
              "      <th></th>\n",
              "      <th>fare</th>\n",
              "      <th>age</th>\n",
              "    </tr>\n",
              "  </thead>\n",
              "  <tbody>\n",
              "    <tr>\n",
              "      <th>0</th>\n",
              "      <td>0.412503</td>\n",
              "      <td>0.361142</td>\n",
              "    </tr>\n",
              "    <tr>\n",
              "      <th>1</th>\n",
              "      <td>0.295806</td>\n",
              "      <td>0.009395</td>\n",
              "    </tr>\n",
              "    <tr>\n",
              "      <th>2</th>\n",
              "      <td>0.295806</td>\n",
              "      <td>0.022924</td>\n",
              "    </tr>\n",
              "    <tr>\n",
              "      <th>3</th>\n",
              "      <td>0.295806</td>\n",
              "      <td>0.373669</td>\n",
              "    </tr>\n",
              "    <tr>\n",
              "      <th>4</th>\n",
              "      <td>0.295806</td>\n",
              "      <td>0.311036</td>\n",
              "    </tr>\n",
              "  </tbody>\n",
              "</table>\n",
              "</div>"
            ],
            "text/plain": [
              "       fare       age\n",
              "0  0.412503  0.361142\n",
              "1  0.295806  0.009395\n",
              "2  0.295806  0.022924\n",
              "3  0.295806  0.373669\n",
              "4  0.295806  0.311036"
            ]
          },
          "metadata": {
            "tags": []
          },
          "execution_count": 101
        }
      ]
    },
    {
      "cell_type": "markdown",
      "metadata": {
        "id": "wB9-5x83mFAO",
        "colab_type": "text"
      },
      "source": [
        "\n",
        "\n",
        "---\n",
        "2. Drop the original age, fare columns\n",
        "3. Append the normalized columns to the titanic_data_new DataFrame.\n",
        "\n",
        "\n",
        "\n",
        "---\n",
        "\n"
      ]
    },
    {
      "cell_type": "code",
      "metadata": {
        "id": "Kb00kM0onQJy",
        "colab_type": "code",
        "colab": {
          "base_uri": "https://localhost:8080/",
          "height": 204
        },
        "outputId": "c1abd787-393e-4fed-ace3-19e9917a1af0"
      },
      "source": [
        "titanic_data_new=titanic_data_new.drop([\"age\",\"fare\"],axis=1)\n",
        "titanic_data_new=pd.concat([titanic_data_new,normalized_df[\"age\"],normalized_df[\"fare\"]],axis=1)\n",
        "titanic_data_new.head()"
      ],
      "execution_count": 102,
      "outputs": [
        {
          "output_type": "execute_result",
          "data": {
            "text/html": [
              "<div>\n",
              "<style scoped>\n",
              "    .dataframe tbody tr th:only-of-type {\n",
              "        vertical-align: middle;\n",
              "    }\n",
              "\n",
              "    .dataframe tbody tr th {\n",
              "        vertical-align: top;\n",
              "    }\n",
              "\n",
              "    .dataframe thead th {\n",
              "        text-align: right;\n",
              "    }\n",
              "</style>\n",
              "<table border=\"1\" class=\"dataframe\">\n",
              "  <thead>\n",
              "    <tr style=\"text-align: right;\">\n",
              "      <th></th>\n",
              "      <th>male</th>\n",
              "      <th>Q</th>\n",
              "      <th>S</th>\n",
              "      <th>2</th>\n",
              "      <th>3</th>\n",
              "      <th>age</th>\n",
              "      <th>fare</th>\n",
              "    </tr>\n",
              "  </thead>\n",
              "  <tbody>\n",
              "    <tr>\n",
              "      <th>0</th>\n",
              "      <td>0</td>\n",
              "      <td>0</td>\n",
              "      <td>1</td>\n",
              "      <td>0</td>\n",
              "      <td>0</td>\n",
              "      <td>0.361142</td>\n",
              "      <td>0.412503</td>\n",
              "    </tr>\n",
              "    <tr>\n",
              "      <th>1</th>\n",
              "      <td>1</td>\n",
              "      <td>0</td>\n",
              "      <td>1</td>\n",
              "      <td>0</td>\n",
              "      <td>0</td>\n",
              "      <td>0.009395</td>\n",
              "      <td>0.295806</td>\n",
              "    </tr>\n",
              "    <tr>\n",
              "      <th>2</th>\n",
              "      <td>0</td>\n",
              "      <td>0</td>\n",
              "      <td>1</td>\n",
              "      <td>0</td>\n",
              "      <td>0</td>\n",
              "      <td>0.022924</td>\n",
              "      <td>0.295806</td>\n",
              "    </tr>\n",
              "    <tr>\n",
              "      <th>3</th>\n",
              "      <td>1</td>\n",
              "      <td>0</td>\n",
              "      <td>1</td>\n",
              "      <td>0</td>\n",
              "      <td>0</td>\n",
              "      <td>0.373669</td>\n",
              "      <td>0.295806</td>\n",
              "    </tr>\n",
              "    <tr>\n",
              "      <th>4</th>\n",
              "      <td>0</td>\n",
              "      <td>0</td>\n",
              "      <td>1</td>\n",
              "      <td>0</td>\n",
              "      <td>0</td>\n",
              "      <td>0.311036</td>\n",
              "      <td>0.295806</td>\n",
              "    </tr>\n",
              "  </tbody>\n",
              "</table>\n",
              "</div>"
            ],
            "text/plain": [
              "   male  Q  S  2  3       age      fare\n",
              "0     0  0  1  0  0  0.361142  0.412503\n",
              "1     1  0  1  0  0  0.009395  0.295806\n",
              "2     0  0  1  0  0  0.022924  0.295806\n",
              "3     1  0  1  0  0  0.373669  0.295806\n",
              "4     0  0  1  0  0  0.311036  0.295806"
            ]
          },
          "metadata": {
            "tags": []
          },
          "execution_count": 102
        }
      ]
    },
    {
      "cell_type": "markdown",
      "metadata": {
        "id": "uLxN3PozntKe",
        "colab_type": "text"
      },
      "source": [
        "###Plotting\n",
        "1. plot the age against the ID(continuous)\n",
        "2. plot the fare against the ID(scatter)"
      ]
    },
    {
      "cell_type": "code",
      "metadata": {
        "id": "LdSfNEKYn_RO",
        "colab_type": "code",
        "colab": {
          "base_uri": "https://localhost:8080/",
          "height": 558
        },
        "outputId": "d9e5d278-6e2f-49a1-834b-fabd97747733"
      },
      "source": [
        "titanic_data_new.reset_index().plot(x=\"index\",y=\"age\")\n",
        "titanic_data_new.reset_index().plot(x=\"index\",y=\"fare\",kind='scatter')"
      ],
      "execution_count": 103,
      "outputs": [
        {
          "output_type": "execute_result",
          "data": {
            "text/plain": [
              "<matplotlib.axes._subplots.AxesSubplot at 0x7f21c6633f98>"
            ]
          },
          "metadata": {
            "tags": []
          },
          "execution_count": 103
        },
        {
          "output_type": "display_data",
          "data": {
            "image/png": "[encoded data removed]",
            "text/plain": [
              "<Figure size 432x288 with 1 Axes>"
            ]
          },
          "metadata": {
            "tags": [],
            "needs_background": "light"
          }
        },
        {
          "output_type": "display_data",
          "data": {
            "image/png": "[encoded data removed]",
            "text/plain": [
              "<Figure size 432x288 with 1 Axes>"
            ]
          },
          "metadata": {
            "tags": [],
            "needs_background": "light"
          }
        }
      ]
    },
    {
      "cell_type": "markdown",
      "metadata": {
        "id": "LQr7y6eevTvy",
        "colab_type": "text"
      },
      "source": [
        "## End of Part - 2\n",
        "---"
      ]
    },
    {
      "cell_type": "markdown",
      "metadata": {
        "id": "TWhZcKvfvW2B",
        "colab_type": "text"
      },
      "source": [
        "## Part - 3\n",
        "---"
      ]
    },
    {
      "cell_type": "markdown",
      "metadata": {
        "id": "8bY4H9DszQ2S",
        "colab_type": "text"
      },
      "source": [
        "In this part, you will work with the library ```matplotlib```. Import the ```pyplot``` from ```matplotlib``` with an alias name ```plt```."
      ]
    },
    {
      "cell_type": "code",
      "metadata": {
        "id": "hPN6qctRzknT",
        "colab_type": "code",
        "colab": {}
      },
      "source": [
        "import matplotlib.pyplot as plt"
      ],
      "execution_count": 0,
      "outputs": []
    },
    {
      "cell_type": "markdown",
      "metadata": {
        "id": "fQ6KX_Aezlub",
        "colab_type": "text"
      },
      "source": [
        "Plot the sine function with domain in $[-3\\pi,3\\pi]$. Label the axes appropriately. Add title $\\sin(x)$. Use latex formatting while adding the title. Set the plot size to (10,10)"
      ]
    },
    {
      "cell_type": "code",
      "metadata": {
        "id": "0tA3J5mA1cQ0",
        "colab_type": "code",
        "colab": {
          "base_uri": "https://localhost:8080/",
          "height": 281
        },
        "outputId": "8bf3e156-268e-4c84-cebc-1c35c1ed83d5"
      },
      "source": [
        "x=np.arange(-3*np.pi,3*np.pi,0.1)\n",
        "y=np.sin(x)\n",
        "plt.title(\"sin(x)\")\n",
        "plt.plot(x,y)\n",
        "plt.show()"
      ],
      "execution_count": 89,
      "outputs": [
        {
          "output_type": "display_data",
          "data": {
            "image/png": "[encoded data removed]",
            "text/plain": [
              "<Figure size 432x288 with 1 Axes>"
            ]
          },
          "metadata": {
            "tags": [],
            "needs_background": "light"
          }
        }
      ]
    },
    {
      "cell_type": "markdown",
      "metadata": {
        "id": "6KV7RqMm1d8P",
        "colab_type": "text"
      },
      "source": [
        "Plot $\\sin(x)$ and its spectrum, $\\cos(x)$ and its spectrum in a single plot, in the domain $[-2\\pi,2\\pi]$. Label the plot appropriately."
      ]
    },
    {
      "cell_type": "code",
      "metadata": {
        "id": "-OJuY0HO12Oo",
        "colab_type": "code",
        "colab": {
          "base_uri": "https://localhost:8080/",
          "height": 365
        },
        "outputId": "d4a68d2e-d96a-4dee-9d3a-cd86eb5909e1"
      },
      "source": [
        "x = np.arange(-2*np.pi,2*np.pi,0.1)\n",
        "y = np.sin(x)\n",
        "y_spec=np.fft.fft(y)\n",
        "y1= np.cos(x)\n",
        "y_spec2=np.fft.fft(y)\n",
        "fig,a =  plt.subplots(2,2)\n",
        "\n",
        "a[0][0].plot(x,y)\n",
        "a[0][0].set_title(\"sin x\")\n",
        "\n",
        "a[0][1].plot(x,y_spec)\n",
        "a[0][1].set_title(\"spectrum\")\n",
        "\n",
        "a[1][0].plot(x,y1)\n",
        "a[1][0].set_title(\"cos x\")\n",
        "\n",
        "a[1][1].plot(x,y_spec2)\n",
        "a[1][1].set_title(\"spectrum\")\n",
        "plt.tight_layout()\n",
        "plt.show()"
      ],
      "execution_count": 93,
      "outputs": [
        {
          "output_type": "stream",
          "text": [
            "/usr/local/lib/python3.6/dist-packages/numpy/core/_asarray.py:85: ComplexWarning: Casting complex values to real discards the imaginary part\n",
            "  return array(a, dtype, copy=False, order=order)\n",
            "/usr/local/lib/python3.6/dist-packages/numpy/core/_asarray.py:85: ComplexWarning: Casting complex values to real discards the imaginary part\n",
            "  return array(a, dtype, copy=False, order=order)\n"
          ],
          "name": "stderr"
        },
        {
          "output_type": "display_data",
          "data": {
            "image/png": "[encoded data removed]",
            "text/plain": [
              "<Figure size 432x288 with 4 Axes>"
            ]
          },
          "metadata": {
            "tags": [],
            "needs_background": "light"
          }
        }
      ]
    },
    {
      "cell_type": "markdown",
      "metadata": {
        "id": "1S6ZRm6B18ZF",
        "colab_type": "text"
      },
      "source": [
        "## End of Part - 3\n",
        "---"
      ]
    },
    {
      "cell_type": "markdown",
      "metadata": {
        "id": "MUucpzXBl096",
        "colab_type": "text"
      },
      "source": [
        "Create a Github repository with the name ***SHALA2020*** and save this assignment there."
      ]
    }
  ]
}