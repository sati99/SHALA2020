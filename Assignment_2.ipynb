{
  "nbformat": 4,
  "nbformat_minor": 0,
  "metadata": {
    "colab": {
      "name": "Assignment_2.ipynb",
      "provenance": [],
      "collapsed_sections": [],
      "include_colab_link": true
    },
    "kernelspec": {
      "name": "python3",
      "display_name": "Python 3"
    }
  },
  "cells": [
    {
      "cell_type": "markdown",
      "metadata": {
        "id": "view-in-github",
        "colab_type": "text"
      },
      "source": [
        "<a href=\"https://colab.research.google.com/github/sati99/SHALA2020/blob/master/Assignment_2.ipynb\" target=\"_parent\"><img src=\"https://colab.research.google.com/assets/colab-badge.svg\" alt=\"Open In Colab\"/></a>"
      ]
    },
    {
      "cell_type": "markdown",
      "metadata": {
        "id": "1X6ddOR8HFsX",
        "colab_type": "text"
      },
      "source": [
        "\n",
        "# **Assignment - 2: Basic Data Understanding**\n",
        "\n",
        "---\n",
        "\n",
        "This assignment will get you familiarized with Python libraries and  functions required for data visualization."
      ]
    },
    {
      "cell_type": "markdown",
      "metadata": {
        "id": "XRd4EfXN5fQb",
        "colab_type": "text"
      },
      "source": [
        "---\n",
        "## Part 1 - Loading data \n",
        "---"
      ]
    },
    {
      "cell_type": "markdown",
      "metadata": {
        "id": "Q7W6I-fVIoqp",
        "colab_type": "text"
      },
      "source": [
        "###Import the following libraries:  \n",
        "\n",
        "* ```numpy``` with an alias name ```np```, \n",
        "* ```pandas``` with an alias name ```pd```, \n",
        "* ```matplotlib.pyplot``` with an alias name ```plt```, and \n",
        "* ```seaborn``` with an alias name ```sns```. "
      ]
    },
    {
      "cell_type": "code",
      "metadata": {
        "id": "NihF3MwIGI4m",
        "colab_type": "code",
        "colab": {}
      },
      "source": [
        "# Load the four libraries with their aliases \n",
        "import numpy as np\n",
        "import pandas as pd\n",
        "import matplotlib.pyplot as plt\n",
        "import seaborn as sns"
      ],
      "execution_count": 0,
      "outputs": []
    },
    {
      "cell_type": "markdown",
      "metadata": {
        "id": "dsLj-TSQJgMb",
        "colab_type": "text"
      },
      "source": [
        "### Using the files ```train.csv``` and ```moviesData.csv```,  peform the following:\n",
        "\n",
        "* Load these file as ```pandas``` dataframes and store it in variables named ```df``` and ```movies``` respectively. \n",
        "* Print the first ten rows of ```df```. \n",
        "\n"
      ]
    },
    {
      "cell_type": "code",
      "metadata": {
        "id": "3AjvT40AGIq6",
        "colab_type": "code",
        "outputId": "62a07ef0-3ea1-481a-a7f5-4dafbc198d6d",
        "colab": {
          "base_uri": "https://localhost:8080/",
          "height": 541
        }
      },
      "source": [
        "# Load the file as a dataframed\n",
        "df= pd.read_csv(\"train.csv\")\n",
        "df.head(10)"
      ],
      "execution_count": 18,
      "outputs": [
        {
          "output_type": "execute_result",
          "data": {
            "text/html": [
              "<div>\n",
              "<style scoped>\n",
              "    .dataframe tbody tr th:only-of-type {\n",
              "        vertical-align: middle;\n",
              "    }\n",
              "\n",
              "    .dataframe tbody tr th {\n",
              "        vertical-align: top;\n",
              "    }\n",
              "\n",
              "    .dataframe thead th {\n",
              "        text-align: right;\n",
              "    }\n",
              "</style>\n",
              "<table border=\"1\" class=\"dataframe\">\n",
              "  <thead>\n",
              "    <tr style=\"text-align: right;\">\n",
              "      <th></th>\n",
              "      <th>Age</th>\n",
              "      <th>Attrition</th>\n",
              "      <th>BusinessTravel</th>\n",
              "      <th>DailyRate</th>\n",
              "      <th>Department</th>\n",
              "      <th>DistanceFromHome</th>\n",
              "      <th>Education</th>\n",
              "      <th>EducationField</th>\n",
              "      <th>EmployeeCount</th>\n",
              "      <th>EmployeeNumber</th>\n",
              "      <th>EnvironmentSatisfaction</th>\n",
              "      <th>Gender</th>\n",
              "      <th>HourlyRate</th>\n",
              "      <th>JobInvolvement</th>\n",
              "      <th>JobLevel</th>\n",
              "      <th>JobRole</th>\n",
              "      <th>JobSatisfaction</th>\n",
              "      <th>MaritalStatus</th>\n",
              "      <th>MonthlyIncome</th>\n",
              "      <th>MonthlyRate</th>\n",
              "      <th>NumCompaniesWorked</th>\n",
              "      <th>OverTime</th>\n",
              "      <th>PercentSalaryHike</th>\n",
              "      <th>PerformanceRating</th>\n",
              "      <th>RelationshipSatisfaction</th>\n",
              "      <th>StockOptionLevel</th>\n",
              "      <th>TotalWorkingYears</th>\n",
              "      <th>TrainingTimesLastYear</th>\n",
              "      <th>WorkLifeBalance</th>\n",
              "      <th>YearsAtCompany</th>\n",
              "      <th>YearsInCurrentRole</th>\n",
              "      <th>YearsSinceLastPromotion</th>\n",
              "      <th>YearsWithCurrManager</th>\n",
              "      <th>ID</th>\n",
              "    </tr>\n",
              "  </thead>\n",
              "  <tbody>\n",
              "    <tr>\n",
              "      <th>0</th>\n",
              "      <td>41</td>\n",
              "      <td>1</td>\n",
              "      <td>Travel_Rarely</td>\n",
              "      <td>1102</td>\n",
              "      <td>Sales</td>\n",
              "      <td>1</td>\n",
              "      <td>2</td>\n",
              "      <td>Life Sciences</td>\n",
              "      <td>1</td>\n",
              "      <td>1</td>\n",
              "      <td>2</td>\n",
              "      <td>Female</td>\n",
              "      <td>94</td>\n",
              "      <td>3</td>\n",
              "      <td>2</td>\n",
              "      <td>Sales Executive</td>\n",
              "      <td>4</td>\n",
              "      <td>Single</td>\n",
              "      <td>5993</td>\n",
              "      <td>19479</td>\n",
              "      <td>8</td>\n",
              "      <td>Yes</td>\n",
              "      <td>11</td>\n",
              "      <td>3</td>\n",
              "      <td>1</td>\n",
              "      <td>0</td>\n",
              "      <td>8</td>\n",
              "      <td>0</td>\n",
              "      <td>1</td>\n",
              "      <td>6</td>\n",
              "      <td>4</td>\n",
              "      <td>0</td>\n",
              "      <td>5</td>\n",
              "      <td>0</td>\n",
              "    </tr>\n",
              "    <tr>\n",
              "      <th>1</th>\n",
              "      <td>49</td>\n",
              "      <td>0</td>\n",
              "      <td>Travel_Frequently</td>\n",
              "      <td>279</td>\n",
              "      <td>Research &amp; Development</td>\n",
              "      <td>8</td>\n",
              "      <td>1</td>\n",
              "      <td>Life Sciences</td>\n",
              "      <td>1</td>\n",
              "      <td>2</td>\n",
              "      <td>3</td>\n",
              "      <td>Male</td>\n",
              "      <td>61</td>\n",
              "      <td>2</td>\n",
              "      <td>2</td>\n",
              "      <td>Research Scientist</td>\n",
              "      <td>2</td>\n",
              "      <td>Married</td>\n",
              "      <td>5130</td>\n",
              "      <td>24907</td>\n",
              "      <td>1</td>\n",
              "      <td>No</td>\n",
              "      <td>23</td>\n",
              "      <td>4</td>\n",
              "      <td>4</td>\n",
              "      <td>1</td>\n",
              "      <td>10</td>\n",
              "      <td>3</td>\n",
              "      <td>3</td>\n",
              "      <td>10</td>\n",
              "      <td>7</td>\n",
              "      <td>1</td>\n",
              "      <td>7</td>\n",
              "      <td>1</td>\n",
              "    </tr>\n",
              "    <tr>\n",
              "      <th>2</th>\n",
              "      <td>37</td>\n",
              "      <td>1</td>\n",
              "      <td>Travel_Rarely</td>\n",
              "      <td>1373</td>\n",
              "      <td>Research &amp; Development</td>\n",
              "      <td>2</td>\n",
              "      <td>2</td>\n",
              "      <td>Other</td>\n",
              "      <td>1</td>\n",
              "      <td>4</td>\n",
              "      <td>4</td>\n",
              "      <td>Male</td>\n",
              "      <td>92</td>\n",
              "      <td>2</td>\n",
              "      <td>1</td>\n",
              "      <td>Laboratory Technician</td>\n",
              "      <td>3</td>\n",
              "      <td>Single</td>\n",
              "      <td>2090</td>\n",
              "      <td>2396</td>\n",
              "      <td>6</td>\n",
              "      <td>Yes</td>\n",
              "      <td>15</td>\n",
              "      <td>3</td>\n",
              "      <td>2</td>\n",
              "      <td>0</td>\n",
              "      <td>7</td>\n",
              "      <td>3</td>\n",
              "      <td>3</td>\n",
              "      <td>0</td>\n",
              "      <td>0</td>\n",
              "      <td>0</td>\n",
              "      <td>0</td>\n",
              "      <td>2</td>\n",
              "    </tr>\n",
              "    <tr>\n",
              "      <th>3</th>\n",
              "      <td>33</td>\n",
              "      <td>0</td>\n",
              "      <td>Travel_Frequently</td>\n",
              "      <td>1392</td>\n",
              "      <td>Research &amp; Development</td>\n",
              "      <td>3</td>\n",
              "      <td>4</td>\n",
              "      <td>Life Sciences</td>\n",
              "      <td>1</td>\n",
              "      <td>5</td>\n",
              "      <td>4</td>\n",
              "      <td>Female</td>\n",
              "      <td>56</td>\n",
              "      <td>3</td>\n",
              "      <td>1</td>\n",
              "      <td>Research Scientist</td>\n",
              "      <td>3</td>\n",
              "      <td>Married</td>\n",
              "      <td>2909</td>\n",
              "      <td>23159</td>\n",
              "      <td>1</td>\n",
              "      <td>Yes</td>\n",
              "      <td>11</td>\n",
              "      <td>3</td>\n",
              "      <td>3</td>\n",
              "      <td>0</td>\n",
              "      <td>8</td>\n",
              "      <td>3</td>\n",
              "      <td>3</td>\n",
              "      <td>8</td>\n",
              "      <td>7</td>\n",
              "      <td>3</td>\n",
              "      <td>0</td>\n",
              "      <td>3</td>\n",
              "    </tr>\n",
              "    <tr>\n",
              "      <th>4</th>\n",
              "      <td>27</td>\n",
              "      <td>0</td>\n",
              "      <td>Travel_Rarely</td>\n",
              "      <td>591</td>\n",
              "      <td>Research &amp; Development</td>\n",
              "      <td>2</td>\n",
              "      <td>1</td>\n",
              "      <td>Medical</td>\n",
              "      <td>1</td>\n",
              "      <td>7</td>\n",
              "      <td>1</td>\n",
              "      <td>Male</td>\n",
              "      <td>40</td>\n",
              "      <td>3</td>\n",
              "      <td>1</td>\n",
              "      <td>Laboratory Technician</td>\n",
              "      <td>2</td>\n",
              "      <td>Married</td>\n",
              "      <td>3468</td>\n",
              "      <td>16632</td>\n",
              "      <td>9</td>\n",
              "      <td>No</td>\n",
              "      <td>12</td>\n",
              "      <td>3</td>\n",
              "      <td>4</td>\n",
              "      <td>1</td>\n",
              "      <td>6</td>\n",
              "      <td>3</td>\n",
              "      <td>3</td>\n",
              "      <td>2</td>\n",
              "      <td>2</td>\n",
              "      <td>2</td>\n",
              "      <td>2</td>\n",
              "      <td>4</td>\n",
              "    </tr>\n",
              "    <tr>\n",
              "      <th>5</th>\n",
              "      <td>32</td>\n",
              "      <td>0</td>\n",
              "      <td>Travel_Frequently</td>\n",
              "      <td>1005</td>\n",
              "      <td>Research &amp; Development</td>\n",
              "      <td>2</td>\n",
              "      <td>2</td>\n",
              "      <td>Life Sciences</td>\n",
              "      <td>1</td>\n",
              "      <td>8</td>\n",
              "      <td>4</td>\n",
              "      <td>Male</td>\n",
              "      <td>79</td>\n",
              "      <td>3</td>\n",
              "      <td>1</td>\n",
              "      <td>Laboratory Technician</td>\n",
              "      <td>4</td>\n",
              "      <td>Single</td>\n",
              "      <td>3068</td>\n",
              "      <td>11864</td>\n",
              "      <td>0</td>\n",
              "      <td>No</td>\n",
              "      <td>13</td>\n",
              "      <td>3</td>\n",
              "      <td>3</td>\n",
              "      <td>0</td>\n",
              "      <td>8</td>\n",
              "      <td>2</td>\n",
              "      <td>2</td>\n",
              "      <td>7</td>\n",
              "      <td>7</td>\n",
              "      <td>3</td>\n",
              "      <td>6</td>\n",
              "      <td>5</td>\n",
              "    </tr>\n",
              "    <tr>\n",
              "      <th>6</th>\n",
              "      <td>59</td>\n",
              "      <td>0</td>\n",
              "      <td>Travel_Rarely</td>\n",
              "      <td>1324</td>\n",
              "      <td>Research &amp; Development</td>\n",
              "      <td>3</td>\n",
              "      <td>3</td>\n",
              "      <td>Medical</td>\n",
              "      <td>1</td>\n",
              "      <td>10</td>\n",
              "      <td>3</td>\n",
              "      <td>Female</td>\n",
              "      <td>81</td>\n",
              "      <td>4</td>\n",
              "      <td>1</td>\n",
              "      <td>Laboratory Technician</td>\n",
              "      <td>1</td>\n",
              "      <td>Married</td>\n",
              "      <td>2670</td>\n",
              "      <td>9964</td>\n",
              "      <td>4</td>\n",
              "      <td>Yes</td>\n",
              "      <td>20</td>\n",
              "      <td>4</td>\n",
              "      <td>1</td>\n",
              "      <td>3</td>\n",
              "      <td>12</td>\n",
              "      <td>3</td>\n",
              "      <td>2</td>\n",
              "      <td>1</td>\n",
              "      <td>0</td>\n",
              "      <td>0</td>\n",
              "      <td>0</td>\n",
              "      <td>6</td>\n",
              "    </tr>\n",
              "    <tr>\n",
              "      <th>7</th>\n",
              "      <td>30</td>\n",
              "      <td>0</td>\n",
              "      <td>Travel_Rarely</td>\n",
              "      <td>1358</td>\n",
              "      <td>Research &amp; Development</td>\n",
              "      <td>24</td>\n",
              "      <td>1</td>\n",
              "      <td>Life Sciences</td>\n",
              "      <td>1</td>\n",
              "      <td>11</td>\n",
              "      <td>4</td>\n",
              "      <td>Male</td>\n",
              "      <td>67</td>\n",
              "      <td>3</td>\n",
              "      <td>1</td>\n",
              "      <td>Laboratory Technician</td>\n",
              "      <td>3</td>\n",
              "      <td>Divorced</td>\n",
              "      <td>2693</td>\n",
              "      <td>13335</td>\n",
              "      <td>1</td>\n",
              "      <td>No</td>\n",
              "      <td>22</td>\n",
              "      <td>4</td>\n",
              "      <td>2</td>\n",
              "      <td>1</td>\n",
              "      <td>1</td>\n",
              "      <td>2</td>\n",
              "      <td>3</td>\n",
              "      <td>1</td>\n",
              "      <td>0</td>\n",
              "      <td>0</td>\n",
              "      <td>0</td>\n",
              "      <td>7</td>\n",
              "    </tr>\n",
              "    <tr>\n",
              "      <th>8</th>\n",
              "      <td>38</td>\n",
              "      <td>0</td>\n",
              "      <td>Travel_Frequently</td>\n",
              "      <td>216</td>\n",
              "      <td>Research &amp; Development</td>\n",
              "      <td>23</td>\n",
              "      <td>3</td>\n",
              "      <td>Life Sciences</td>\n",
              "      <td>1</td>\n",
              "      <td>12</td>\n",
              "      <td>4</td>\n",
              "      <td>Male</td>\n",
              "      <td>44</td>\n",
              "      <td>2</td>\n",
              "      <td>3</td>\n",
              "      <td>Manufacturing Director</td>\n",
              "      <td>3</td>\n",
              "      <td>Single</td>\n",
              "      <td>9526</td>\n",
              "      <td>8787</td>\n",
              "      <td>0</td>\n",
              "      <td>No</td>\n",
              "      <td>21</td>\n",
              "      <td>4</td>\n",
              "      <td>2</td>\n",
              "      <td>0</td>\n",
              "      <td>10</td>\n",
              "      <td>2</td>\n",
              "      <td>3</td>\n",
              "      <td>9</td>\n",
              "      <td>7</td>\n",
              "      <td>1</td>\n",
              "      <td>8</td>\n",
              "      <td>8</td>\n",
              "    </tr>\n",
              "    <tr>\n",
              "      <th>9</th>\n",
              "      <td>36</td>\n",
              "      <td>0</td>\n",
              "      <td>Travel_Rarely</td>\n",
              "      <td>1299</td>\n",
              "      <td>Research &amp; Development</td>\n",
              "      <td>27</td>\n",
              "      <td>3</td>\n",
              "      <td>Medical</td>\n",
              "      <td>1</td>\n",
              "      <td>13</td>\n",
              "      <td>3</td>\n",
              "      <td>Male</td>\n",
              "      <td>94</td>\n",
              "      <td>3</td>\n",
              "      <td>2</td>\n",
              "      <td>Healthcare Representative</td>\n",
              "      <td>3</td>\n",
              "      <td>Married</td>\n",
              "      <td>5237</td>\n",
              "      <td>16577</td>\n",
              "      <td>6</td>\n",
              "      <td>No</td>\n",
              "      <td>13</td>\n",
              "      <td>3</td>\n",
              "      <td>2</td>\n",
              "      <td>2</td>\n",
              "      <td>17</td>\n",
              "      <td>3</td>\n",
              "      <td>2</td>\n",
              "      <td>7</td>\n",
              "      <td>7</td>\n",
              "      <td>7</td>\n",
              "      <td>7</td>\n",
              "      <td>9</td>\n",
              "    </tr>\n",
              "  </tbody>\n",
              "</table>\n",
              "</div>"
            ],
            "text/plain": [
              "   Age  Attrition  ... YearsWithCurrManager  ID\n",
              "0   41          1  ...                    5   0\n",
              "1   49          0  ...                    7   1\n",
              "2   37          1  ...                    0   2\n",
              "3   33          0  ...                    0   3\n",
              "4   27          0  ...                    2   4\n",
              "5   32          0  ...                    6   5\n",
              "6   59          0  ...                    0   6\n",
              "7   30          0  ...                    0   7\n",
              "8   38          0  ...                    8   8\n",
              "9   36          0  ...                    7   9\n",
              "\n",
              "[10 rows x 34 columns]"
            ]
          },
          "metadata": {
            "tags": []
          },
          "execution_count": 18
        }
      ]
    },
    {
      "cell_type": "code",
      "metadata": {
        "id": "7eCo7WlMGMkn",
        "colab_type": "code",
        "outputId": "7103429d-f8e9-4d06-c600-8a6c18e952d3",
        "colab": {
          "base_uri": "https://localhost:8080/",
          "height": 627
        }
      },
      "source": [
        "# Print the first ten rows of df\n",
        "movies= pd.read_csv(\"moviesData.csv\")\n",
        "movies.head(10)"
      ],
      "execution_count": 19,
      "outputs": [
        {
          "output_type": "execute_result",
          "data": {
            "text/html": [
              "<div>\n",
              "<style scoped>\n",
              "    .dataframe tbody tr th:only-of-type {\n",
              "        vertical-align: middle;\n",
              "    }\n",
              "\n",
              "    .dataframe tbody tr th {\n",
              "        vertical-align: top;\n",
              "    }\n",
              "\n",
              "    .dataframe thead th {\n",
              "        text-align: right;\n",
              "    }\n",
              "</style>\n",
              "<table border=\"1\" class=\"dataframe\">\n",
              "  <thead>\n",
              "    <tr style=\"text-align: right;\">\n",
              "      <th></th>\n",
              "      <th>Unnamed: 0</th>\n",
              "      <th>title</th>\n",
              "      <th>title_type</th>\n",
              "      <th>genre</th>\n",
              "      <th>runtime</th>\n",
              "      <th>mpaa_rating</th>\n",
              "      <th>studio</th>\n",
              "      <th>thtr_rel_year</th>\n",
              "      <th>thtr_rel_month</th>\n",
              "      <th>thtr_rel_day</th>\n",
              "      <th>dvd_rel_year</th>\n",
              "      <th>dvd_rel_month</th>\n",
              "      <th>dvd_rel_day</th>\n",
              "      <th>imdb_rating</th>\n",
              "      <th>imdb_num_votes</th>\n",
              "      <th>critics_rating</th>\n",
              "      <th>critics_score</th>\n",
              "      <th>audience_rating</th>\n",
              "      <th>audience_score</th>\n",
              "      <th>best_pic_nom</th>\n",
              "      <th>best_pic_win</th>\n",
              "      <th>best_actor_win</th>\n",
              "      <th>best_actress_win</th>\n",
              "      <th>best_dir_win</th>\n",
              "      <th>top200_box</th>\n",
              "      <th>director</th>\n",
              "      <th>actor1</th>\n",
              "      <th>actor2</th>\n",
              "      <th>actor3</th>\n",
              "      <th>actor4</th>\n",
              "      <th>actor5</th>\n",
              "    </tr>\n",
              "  </thead>\n",
              "  <tbody>\n",
              "    <tr>\n",
              "      <th>0</th>\n",
              "      <td>1</td>\n",
              "      <td>Filly Brown</td>\n",
              "      <td>Feature Film</td>\n",
              "      <td>Drama</td>\n",
              "      <td>80.0</td>\n",
              "      <td>R</td>\n",
              "      <td>Indomina Media Inc.</td>\n",
              "      <td>2013</td>\n",
              "      <td>4</td>\n",
              "      <td>19</td>\n",
              "      <td>2013.0</td>\n",
              "      <td>7.0</td>\n",
              "      <td>30.0</td>\n",
              "      <td>5.5</td>\n",
              "      <td>899</td>\n",
              "      <td>Rotten</td>\n",
              "      <td>45</td>\n",
              "      <td>Upright</td>\n",
              "      <td>73</td>\n",
              "      <td>no</td>\n",
              "      <td>no</td>\n",
              "      <td>no</td>\n",
              "      <td>no</td>\n",
              "      <td>no</td>\n",
              "      <td>no</td>\n",
              "      <td>Michael D. Olmos</td>\n",
              "      <td>Gina Rodriguez</td>\n",
              "      <td>Jenni Rivera</td>\n",
              "      <td>Lou Diamond Phillips</td>\n",
              "      <td>Emilio Rivera</td>\n",
              "      <td>Joseph Julian Soria</td>\n",
              "    </tr>\n",
              "    <tr>\n",
              "      <th>1</th>\n",
              "      <td>2</td>\n",
              "      <td>The Dish</td>\n",
              "      <td>Feature Film</td>\n",
              "      <td>Drama</td>\n",
              "      <td>101.0</td>\n",
              "      <td>PG-13</td>\n",
              "      <td>Warner Bros. Pictures</td>\n",
              "      <td>2001</td>\n",
              "      <td>3</td>\n",
              "      <td>14</td>\n",
              "      <td>2001.0</td>\n",
              "      <td>8.0</td>\n",
              "      <td>28.0</td>\n",
              "      <td>7.3</td>\n",
              "      <td>12285</td>\n",
              "      <td>Certified Fresh</td>\n",
              "      <td>96</td>\n",
              "      <td>Upright</td>\n",
              "      <td>81</td>\n",
              "      <td>no</td>\n",
              "      <td>no</td>\n",
              "      <td>no</td>\n",
              "      <td>no</td>\n",
              "      <td>no</td>\n",
              "      <td>no</td>\n",
              "      <td>Rob Sitch</td>\n",
              "      <td>Sam Neill</td>\n",
              "      <td>Kevin Harrington</td>\n",
              "      <td>Patrick Warburton</td>\n",
              "      <td>Tom Long</td>\n",
              "      <td>Genevieve Mooy</td>\n",
              "    </tr>\n",
              "    <tr>\n",
              "      <th>2</th>\n",
              "      <td>3</td>\n",
              "      <td>Waiting for Guffman</td>\n",
              "      <td>Feature Film</td>\n",
              "      <td>Comedy</td>\n",
              "      <td>84.0</td>\n",
              "      <td>R</td>\n",
              "      <td>Sony Pictures Classics</td>\n",
              "      <td>1996</td>\n",
              "      <td>8</td>\n",
              "      <td>21</td>\n",
              "      <td>2001.0</td>\n",
              "      <td>8.0</td>\n",
              "      <td>21.0</td>\n",
              "      <td>7.6</td>\n",
              "      <td>22381</td>\n",
              "      <td>Certified Fresh</td>\n",
              "      <td>91</td>\n",
              "      <td>Upright</td>\n",
              "      <td>91</td>\n",
              "      <td>no</td>\n",
              "      <td>no</td>\n",
              "      <td>no</td>\n",
              "      <td>no</td>\n",
              "      <td>no</td>\n",
              "      <td>no</td>\n",
              "      <td>Christopher Guest</td>\n",
              "      <td>Christopher Guest</td>\n",
              "      <td>Catherine O'Hara</td>\n",
              "      <td>Parker Posey</td>\n",
              "      <td>Eugene Levy</td>\n",
              "      <td>Bob Balaban</td>\n",
              "    </tr>\n",
              "    <tr>\n",
              "      <th>3</th>\n",
              "      <td>4</td>\n",
              "      <td>The Age of Innocence</td>\n",
              "      <td>Feature Film</td>\n",
              "      <td>Drama</td>\n",
              "      <td>139.0</td>\n",
              "      <td>PG</td>\n",
              "      <td>Columbia Pictures</td>\n",
              "      <td>1993</td>\n",
              "      <td>10</td>\n",
              "      <td>1</td>\n",
              "      <td>2001.0</td>\n",
              "      <td>11.0</td>\n",
              "      <td>6.0</td>\n",
              "      <td>7.2</td>\n",
              "      <td>35096</td>\n",
              "      <td>Certified Fresh</td>\n",
              "      <td>80</td>\n",
              "      <td>Upright</td>\n",
              "      <td>76</td>\n",
              "      <td>no</td>\n",
              "      <td>no</td>\n",
              "      <td>yes</td>\n",
              "      <td>no</td>\n",
              "      <td>yes</td>\n",
              "      <td>no</td>\n",
              "      <td>Martin Scorsese</td>\n",
              "      <td>Daniel Day-Lewis</td>\n",
              "      <td>Michelle Pfeiffer</td>\n",
              "      <td>Winona Ryder</td>\n",
              "      <td>Richard E. Grant</td>\n",
              "      <td>Alec McCowen</td>\n",
              "    </tr>\n",
              "    <tr>\n",
              "      <th>4</th>\n",
              "      <td>5</td>\n",
              "      <td>Malevolence</td>\n",
              "      <td>Feature Film</td>\n",
              "      <td>Horror</td>\n",
              "      <td>90.0</td>\n",
              "      <td>R</td>\n",
              "      <td>Anchor Bay Entertainment</td>\n",
              "      <td>2004</td>\n",
              "      <td>9</td>\n",
              "      <td>10</td>\n",
              "      <td>2005.0</td>\n",
              "      <td>4.0</td>\n",
              "      <td>19.0</td>\n",
              "      <td>5.1</td>\n",
              "      <td>2386</td>\n",
              "      <td>Rotten</td>\n",
              "      <td>33</td>\n",
              "      <td>Spilled</td>\n",
              "      <td>27</td>\n",
              "      <td>no</td>\n",
              "      <td>no</td>\n",
              "      <td>no</td>\n",
              "      <td>no</td>\n",
              "      <td>no</td>\n",
              "      <td>no</td>\n",
              "      <td>Stevan Mena</td>\n",
              "      <td>Samantha Dark</td>\n",
              "      <td>R. Brandon Johnson</td>\n",
              "      <td>Brandon Johnson</td>\n",
              "      <td>Heather Magee</td>\n",
              "      <td>Richard Glover</td>\n",
              "    </tr>\n",
              "    <tr>\n",
              "      <th>5</th>\n",
              "      <td>6</td>\n",
              "      <td>Old Partner</td>\n",
              "      <td>Documentary</td>\n",
              "      <td>Documentary</td>\n",
              "      <td>78.0</td>\n",
              "      <td>Unrated</td>\n",
              "      <td>Shcalo Media Group</td>\n",
              "      <td>2009</td>\n",
              "      <td>1</td>\n",
              "      <td>15</td>\n",
              "      <td>2010.0</td>\n",
              "      <td>4.0</td>\n",
              "      <td>20.0</td>\n",
              "      <td>7.8</td>\n",
              "      <td>333</td>\n",
              "      <td>Fresh</td>\n",
              "      <td>91</td>\n",
              "      <td>Upright</td>\n",
              "      <td>86</td>\n",
              "      <td>no</td>\n",
              "      <td>no</td>\n",
              "      <td>no</td>\n",
              "      <td>no</td>\n",
              "      <td>no</td>\n",
              "      <td>no</td>\n",
              "      <td>Chung-ryoul Lee</td>\n",
              "      <td>Choi Won-kyun</td>\n",
              "      <td>Lee Sam-soon</td>\n",
              "      <td>Moo</td>\n",
              "      <td>NaN</td>\n",
              "      <td>NaN</td>\n",
              "    </tr>\n",
              "    <tr>\n",
              "      <th>6</th>\n",
              "      <td>7</td>\n",
              "      <td>Lady Jane</td>\n",
              "      <td>Feature Film</td>\n",
              "      <td>Drama</td>\n",
              "      <td>142.0</td>\n",
              "      <td>PG-13</td>\n",
              "      <td>Paramount Home Video</td>\n",
              "      <td>1986</td>\n",
              "      <td>1</td>\n",
              "      <td>1</td>\n",
              "      <td>2003.0</td>\n",
              "      <td>2.0</td>\n",
              "      <td>18.0</td>\n",
              "      <td>7.2</td>\n",
              "      <td>5016</td>\n",
              "      <td>Rotten</td>\n",
              "      <td>57</td>\n",
              "      <td>Upright</td>\n",
              "      <td>76</td>\n",
              "      <td>no</td>\n",
              "      <td>no</td>\n",
              "      <td>no</td>\n",
              "      <td>no</td>\n",
              "      <td>no</td>\n",
              "      <td>no</td>\n",
              "      <td>Trevor Nunn</td>\n",
              "      <td>Cary Elwes</td>\n",
              "      <td>John Wood</td>\n",
              "      <td>Michael Hordern</td>\n",
              "      <td>Jill Bennett II</td>\n",
              "      <td>Helena Bonham Carter</td>\n",
              "    </tr>\n",
              "    <tr>\n",
              "      <th>7</th>\n",
              "      <td>8</td>\n",
              "      <td>Mad Dog Time</td>\n",
              "      <td>Feature Film</td>\n",
              "      <td>Drama</td>\n",
              "      <td>93.0</td>\n",
              "      <td>R</td>\n",
              "      <td>MGM/United Artists</td>\n",
              "      <td>1996</td>\n",
              "      <td>11</td>\n",
              "      <td>8</td>\n",
              "      <td>2004.0</td>\n",
              "      <td>3.0</td>\n",
              "      <td>2.0</td>\n",
              "      <td>5.5</td>\n",
              "      <td>2272</td>\n",
              "      <td>Rotten</td>\n",
              "      <td>17</td>\n",
              "      <td>Spilled</td>\n",
              "      <td>47</td>\n",
              "      <td>no</td>\n",
              "      <td>no</td>\n",
              "      <td>yes</td>\n",
              "      <td>no</td>\n",
              "      <td>no</td>\n",
              "      <td>no</td>\n",
              "      <td>Larry Bishop</td>\n",
              "      <td>Richard Dreyfuss</td>\n",
              "      <td>Jeff Goldblum</td>\n",
              "      <td>Gabriel Byrne</td>\n",
              "      <td>Ellen Barkin</td>\n",
              "      <td>Diane Lane</td>\n",
              "    </tr>\n",
              "    <tr>\n",
              "      <th>8</th>\n",
              "      <td>9</td>\n",
              "      <td>Beauty Is Embarrassing</td>\n",
              "      <td>Documentary</td>\n",
              "      <td>Documentary</td>\n",
              "      <td>88.0</td>\n",
              "      <td>Unrated</td>\n",
              "      <td>Independent Pictures</td>\n",
              "      <td>2012</td>\n",
              "      <td>9</td>\n",
              "      <td>7</td>\n",
              "      <td>2013.0</td>\n",
              "      <td>1.0</td>\n",
              "      <td>21.0</td>\n",
              "      <td>7.5</td>\n",
              "      <td>880</td>\n",
              "      <td>Fresh</td>\n",
              "      <td>90</td>\n",
              "      <td>Upright</td>\n",
              "      <td>89</td>\n",
              "      <td>no</td>\n",
              "      <td>no</td>\n",
              "      <td>no</td>\n",
              "      <td>no</td>\n",
              "      <td>no</td>\n",
              "      <td>no</td>\n",
              "      <td>Neil Berkeley</td>\n",
              "      <td>Paul Reubens</td>\n",
              "      <td>Matt Groening</td>\n",
              "      <td>Todd Oldham</td>\n",
              "      <td>Jonathan Dayton</td>\n",
              "      <td>Cliff Benjamin</td>\n",
              "    </tr>\n",
              "    <tr>\n",
              "      <th>9</th>\n",
              "      <td>10</td>\n",
              "      <td>The Snowtown Murders</td>\n",
              "      <td>Feature Film</td>\n",
              "      <td>Drama</td>\n",
              "      <td>119.0</td>\n",
              "      <td>Unrated</td>\n",
              "      <td>IFC Films</td>\n",
              "      <td>2012</td>\n",
              "      <td>3</td>\n",
              "      <td>2</td>\n",
              "      <td>2012.0</td>\n",
              "      <td>8.0</td>\n",
              "      <td>14.0</td>\n",
              "      <td>6.6</td>\n",
              "      <td>12496</td>\n",
              "      <td>Certified Fresh</td>\n",
              "      <td>83</td>\n",
              "      <td>Upright</td>\n",
              "      <td>66</td>\n",
              "      <td>no</td>\n",
              "      <td>no</td>\n",
              "      <td>no</td>\n",
              "      <td>no</td>\n",
              "      <td>no</td>\n",
              "      <td>no</td>\n",
              "      <td>Justin Kurzel</td>\n",
              "      <td>Lucas Pittaway</td>\n",
              "      <td>Daniel Henshall</td>\n",
              "      <td>Louise Harris</td>\n",
              "      <td>Craig Coyne</td>\n",
              "      <td>Richard Green</td>\n",
              "    </tr>\n",
              "  </tbody>\n",
              "</table>\n",
              "</div>"
            ],
            "text/plain": [
              "   Unnamed: 0                   title  ...            actor4                actor5\n",
              "0           1             Filly Brown  ...     Emilio Rivera   Joseph Julian Soria\n",
              "1           2                The Dish  ...          Tom Long        Genevieve Mooy\n",
              "2           3     Waiting for Guffman  ...       Eugene Levy           Bob Balaban\n",
              "3           4    The Age of Innocence  ...  Richard E. Grant          Alec McCowen\n",
              "4           5             Malevolence  ...     Heather Magee        Richard Glover\n",
              "5           6             Old Partner  ...               NaN                   NaN\n",
              "6           7               Lady Jane  ...   Jill Bennett II  Helena Bonham Carter\n",
              "7           8            Mad Dog Time  ...      Ellen Barkin            Diane Lane\n",
              "8           9  Beauty Is Embarrassing  ...   Jonathan Dayton        Cliff Benjamin\n",
              "9          10    The Snowtown Murders  ...       Craig Coyne         Richard Green\n",
              "\n",
              "[10 rows x 31 columns]"
            ]
          },
          "metadata": {
            "tags": []
          },
          "execution_count": 19
        }
      ]
    },
    {
      "cell_type": "markdown",
      "metadata": {
        "id": "PSm-U7LEF5u_",
        "colab_type": "text"
      },
      "source": [
        "### Using the dataframe ```df```, perform the following: \n",
        "\n",
        "* Print the first five rows of the column ```MonthlyRate```. \n",
        "* Find out the details of the column ```MonthlyRate``` like mean, maximum value, minimum value, etc. "
      ]
    },
    {
      "cell_type": "code",
      "metadata": {
        "id": "QS5LttI-GT2f",
        "colab_type": "code",
        "outputId": "8a39bcfe-8cba-4cc3-aa97-875f99f4f8d5",
        "colab": {
          "base_uri": "https://localhost:8080/",
          "height": 126
        }
      },
      "source": [
        "# Print the first five rows of MonthlyRate\n",
        "df['MonthlyRate'].head()"
      ],
      "execution_count": 22,
      "outputs": [
        {
          "output_type": "execute_result",
          "data": {
            "text/plain": [
              "0    19479\n",
              "1    24907\n",
              "2     2396\n",
              "3    23159\n",
              "4    16632\n",
              "Name: MonthlyRate, dtype: int64"
            ]
          },
          "metadata": {
            "tags": []
          },
          "execution_count": 22
        }
      ]
    },
    {
      "cell_type": "code",
      "metadata": {
        "id": "EzQ1a1M0GURm",
        "colab_type": "code",
        "outputId": "a59590a3-eab1-4e7f-d771-862463101108",
        "colab": {
          "base_uri": "https://localhost:8080/",
          "height": 35
        }
      },
      "source": [
        "# Find the details of MonthlyRate \n",
        "df['MonthlyRate'].mean()"
      ],
      "execution_count": 23,
      "outputs": [
        {
          "output_type": "execute_result",
          "data": {
            "text/plain": [
              "14243.53112840467"
            ]
          },
          "metadata": {
            "tags": []
          },
          "execution_count": 23
        }
      ]
    },
    {
      "cell_type": "code",
      "metadata": {
        "id": "bAhpKwgA_aCk",
        "colab_type": "code",
        "outputId": "aee3d7b9-132f-47b3-eab2-9d8502712e75",
        "colab": {
          "base_uri": "https://localhost:8080/",
          "height": 35
        }
      },
      "source": [
        "df['MonthlyRate'].max()"
      ],
      "execution_count": 24,
      "outputs": [
        {
          "output_type": "execute_result",
          "data": {
            "text/plain": [
              "26999"
            ]
          },
          "metadata": {
            "tags": []
          },
          "execution_count": 24
        }
      ]
    },
    {
      "cell_type": "code",
      "metadata": {
        "id": "pLTSvum__cjS",
        "colab_type": "code",
        "outputId": "58b060c9-8811-45bd-c4ac-0bfc7f343fa6",
        "colab": {
          "base_uri": "https://localhost:8080/",
          "height": 35
        }
      },
      "source": [
        "df['MonthlyRate'].min()"
      ],
      "execution_count": 25,
      "outputs": [
        {
          "output_type": "execute_result",
          "data": {
            "text/plain": [
              "2094"
            ]
          },
          "metadata": {
            "tags": []
          },
          "execution_count": 25
        }
      ]
    },
    {
      "cell_type": "markdown",
      "metadata": {
        "id": "3h-YOTvPQI48",
        "colab_type": "text"
      },
      "source": [
        "---\n",
        "## Part 2 - Cleaning and manipulating data \n",
        "---"
      ]
    },
    {
      "cell_type": "markdown",
      "metadata": {
        "id": "EtLzBibsQfXu",
        "colab_type": "text"
      },
      "source": [
        "### Using the dataframe ```df```, peform the following:\n",
        "\n",
        "* Check whether there are any missing values in ```df```. \n",
        "* If yes, drop those values and print the size of ```df``` after dropping these. "
      ]
    },
    {
      "cell_type": "code",
      "metadata": {
        "id": "XG-UK53fRDRZ",
        "colab_type": "code",
        "outputId": "a258420a-d7e7-4d4d-e9cf-63fa8f8ce793",
        "colab": {
          "base_uri": "https://localhost:8080/",
          "height": 54
        }
      },
      "source": [
        "# Check for missing values \n",
        "if df.isnull().sum().sum()==0:\n",
        "  print('no missing values')\n",
        "else:\n",
        "  print('missing values exist')\n",
        "# Drop the missing values \n",
        "df=df.dropna()\n",
        "\n",
        "# Print the size of df after dropping \n",
        "df.shape"
      ],
      "execution_count": 26,
      "outputs": [
        {
          "output_type": "stream",
          "text": [
            "no missing values\n"
          ],
          "name": "stdout"
        },
        {
          "output_type": "execute_result",
          "data": {
            "text/plain": [
              "(1028, 34)"
            ]
          },
          "metadata": {
            "tags": []
          },
          "execution_count": 26
        }
      ]
    },
    {
      "cell_type": "markdown",
      "metadata": {
        "id": "qtoGcl2XRWnS",
        "colab_type": "text"
      },
      "source": [
        "### Using the dataframe ```df```, peform the following:\n",
        "\n",
        "* Add another column named ```MonthRateNew``` in ```df``` by subtracting the mean from ```MonthlyRate``` and dividing it by standard deviation. "
      ]
    },
    {
      "cell_type": "code",
      "metadata": {
        "id": "zDMncSUKR12P",
        "colab_type": "code",
        "colab": {}
      },
      "source": [
        "# Add a column named MonthRateNew \n",
        "mean = df['MonthlyRate'].mean()\n",
        "std_dev = df['MonthlyRate'].std()\n",
        "df['MonthlyRateNew']= (df['MonthlyRate']- mean ) / std_dev"
      ],
      "execution_count": 0,
      "outputs": []
    },
    {
      "cell_type": "code",
      "metadata": {
        "id": "JRHF5tl5XAh_",
        "colab_type": "code",
        "colab": {
          "base_uri": "https://localhost:8080/",
          "height": 126
        },
        "outputId": "b1ca9e33-1cab-4447-c6bf-cac03e97cae3"
      },
      "source": [
        "df['MonthlyRateNew'].head(5)"
      ],
      "execution_count": 33,
      "outputs": [
        {
          "output_type": "execute_result",
          "data": {
            "text/plain": [
              "0    0.742749\n",
              "1    1.512813\n",
              "2   -1.680795\n",
              "3    1.264827\n",
              "4    0.338849\n",
              "Name: MonthlyRateNew, dtype: float64"
            ]
          },
          "metadata": {
            "tags": []
          },
          "execution_count": 33
        }
      ]
    },
    {
      "cell_type": "markdown",
      "metadata": {
        "id": "pcbN7jep13og",
        "colab_type": "text"
      },
      "source": [
        "### Using the dataframe ```movies```, perform the following: \n",
        "\n",
        "* Check whether there are any missing values in ```movies```. \n",
        "* Find out the number of observations/rows having any of their features/columns missing. \n",
        "* Drop the missing values and print the size of ```movies``` after dropping these. \n",
        "* Instead of dropping the missing values, replace the missing values by their mean (or some suitable value). \n"
      ]
    },
    {
      "cell_type": "code",
      "metadata": {
        "id": "DNszBx8A14ai",
        "colab_type": "code",
        "outputId": "bfd2269a-777b-4dc1-ded0-e2de8feb74ed",
        "colab": {
          "base_uri": "https://localhost:8080/",
          "height": 599
        }
      },
      "source": [
        "# Check for missing values \n",
        "movies.isnull().sum()"
      ],
      "execution_count": 11,
      "outputs": [
        {
          "output_type": "execute_result",
          "data": {
            "text/plain": [
              "Unnamed: 0           0\n",
              "title                0\n",
              "title_type           0\n",
              "genre                0\n",
              "runtime              1\n",
              "mpaa_rating          0\n",
              "studio               5\n",
              "thtr_rel_year        0\n",
              "thtr_rel_month       0\n",
              "thtr_rel_day         0\n",
              "dvd_rel_year         7\n",
              "dvd_rel_month        7\n",
              "dvd_rel_day          7\n",
              "imdb_rating          0\n",
              "imdb_num_votes       0\n",
              "critics_rating       0\n",
              "critics_score        0\n",
              "audience_rating      0\n",
              "audience_score       0\n",
              "best_pic_nom         0\n",
              "best_pic_win         0\n",
              "best_actor_win       0\n",
              "best_actress_win     0\n",
              "best_dir_win         0\n",
              "top200_box           0\n",
              "director             2\n",
              "actor1               2\n",
              "actor2               7\n",
              "actor3               9\n",
              "actor4              12\n",
              "actor5              14\n",
              "dtype: int64"
            ]
          },
          "metadata": {
            "tags": []
          },
          "execution_count": 11
        }
      ]
    },
    {
      "cell_type": "code",
      "metadata": {
        "id": "mboYRa8LaWJh",
        "colab_type": "code",
        "outputId": "9b653de0-9386-45df-8167-d668cf83524f",
        "colab": {
          "base_uri": "https://localhost:8080/",
          "height": 35
        }
      },
      "source": [
        "# Drop the missing values \n",
        "movies2= movies.dropna()\n",
        "print(movies2.shape)"
      ],
      "execution_count": 12,
      "outputs": [
        {
          "output_type": "stream",
          "text": [
            "(572, 31)\n"
          ],
          "name": "stdout"
        }
      ]
    },
    {
      "cell_type": "code",
      "metadata": {
        "id": "jKlwjGVbckbP",
        "colab_type": "code",
        "colab": {}
      },
      "source": [
        "# Replace the missing values \n",
        "# You can use SimpleImputer of sklearn for this\n"
      ],
      "execution_count": 0,
      "outputs": []
    },
    {
      "cell_type": "markdown",
      "metadata": {
        "id": "qDr11sjlBk_W",
        "colab_type": "text"
      },
      "source": [
        "---\n",
        "## Part 3 - Visualizing data \n",
        "---"
      ]
    },
    {
      "cell_type": "markdown",
      "metadata": {
        "id": "wC_w1zNCBw2G",
        "colab_type": "text"
      },
      "source": [
        "### Visualize the ```df``` by drawing the following plots:\n",
        "\n",
        "* Plot a histogram of ```Age``` and find the range in which most people are there. \n",
        "* Modify the histogram of ```Age``` by adding 30 bins. \n",
        "* Draw a scatter plot between ```Age``` and ```Attrition``` and suitable labels to the axes. Find out whether people more than 50 years are more likely to leave the company. (```Attrition``` = 1 means people have left the company). "
      ]
    },
    {
      "cell_type": "code",
      "metadata": {
        "id": "645EwAsoH63i",
        "colab_type": "code",
        "colab": {
          "base_uri": "https://localhost:8080/",
          "height": 784
        },
        "outputId": "0cb0681f-5b29-4dc9-b2f8-74cf11da5556"
      },
      "source": [
        "# Plot and modify the histogram of Age\n",
        "plt.hist(df.Age)\n",
        "df.hist(column='Age',bins= 30, figsize= (12,8),color='#2ecc71')"
      ],
      "execution_count": 13,
      "outputs": [
        {
          "output_type": "execute_result",
          "data": {
            "text/plain": [
              "array([[<matplotlib.axes._subplots.AxesSubplot object at 0x7f0f5e5fe358>]],\n",
              "      dtype=object)"
            ]
          },
          "metadata": {
            "tags": []
          },
          "execution_count": 13
        },
        {
          "output_type": "display_data",
          "data": {
            "image/png": "[encoded data removed]",
            "text/plain": [
              "<Figure size 432x288 with 1 Axes>"
            ]
          },
          "metadata": {
            "tags": [],
            "needs_background": "light"
          }
        },
        {
          "output_type": "display_data",
          "data": {
            "image/png": "[encoded data removed]",
            "text/plain": [
              "<Figure size 864x576 with 1 Axes>"
            ]
          },
          "metadata": {
            "tags": [],
            "needs_background": "light"
          }
        }
      ]
    },
    {
      "cell_type": "code",
      "metadata": {
        "id": "YyJWrzoZjIRU",
        "colab_type": "code",
        "colab": {
          "base_uri": "https://localhost:8080/",
          "height": 281
        },
        "outputId": "68342d5d-a480-4234-c5a3-90a17e8729dd"
      },
      "source": [
        "# Draw a scatter plot between Age and Attrition\n",
        "plt.scatter(df.Age,df.Attrition,c='Yellow')\n",
        "plt.xlim =(10,100)\n",
        "plt.ylim =(0,1)\n",
        "plt.title('Scatter Plot of Daily Rate and Month Rate')\n",
        "plt.show()"
      ],
      "execution_count": 15,
      "outputs": [
        {
          "output_type": "display_data",
          "data": {
            "image/png": "[encoded data removed]",
            "text/plain": [
              "<Figure size 432x288 with 1 Axes>"
            ]
          },
          "metadata": {
            "tags": [],
            "needs_background": "light"
          }
        }
      ]
    },
    {
      "cell_type": "markdown",
      "metadata": {
        "id": "eez_pkZ-HDKP",
        "colab_type": "text"
      },
      "source": [
        "### Visualize the ```df``` by following the steps given below:\n",
        "\n",
        "* Get a series containing counts of unique values of ```Attrition```.\n",
        "* Draw a countplot for ```Attrition``` using ```sns.countplot()```. "
      ]
    },
    {
      "cell_type": "code",
      "metadata": {
        "id": "Tp8LnxLWIPfk",
        "colab_type": "code",
        "colab": {
          "base_uri": "https://localhost:8080/",
          "height": 72
        },
        "outputId": "abd973c8-f95a-4b36-fe2d-b257eab4bab8"
      },
      "source": [
        "# Get a series of counts of values of Attrition\n",
        "df.Attrition.value_counts()"
      ],
      "execution_count": 14,
      "outputs": [
        {
          "output_type": "execute_result",
          "data": {
            "text/plain": [
              "0    856\n",
              "1    172\n",
              "Name: Attrition, dtype: int64"
            ]
          },
          "metadata": {
            "tags": []
          },
          "execution_count": 14
        }
      ]
    },
    {
      "cell_type": "code",
      "metadata": {
        "id": "OBNSycDemS9d",
        "colab_type": "code",
        "colab": {
          "base_uri": "https://localhost:8080/",
          "height": 279
        },
        "outputId": "7e32917e-71c0-467d-9a12-e80fe6558a4a"
      },
      "source": [
        "# Draw a countplot for Attrition \n",
        "# You may use countplot of seaborn for this \n",
        "sns.countplot(x=\"Attrition\", data=df)\n",
        "plt.xlim= (0,1)\n",
        "plt.ylim= (1,800)\n",
        "plt.show()"
      ],
      "execution_count": 16,
      "outputs": [
        {
          "output_type": "display_data",
          "data": {
            "image/png": "[encoded data removed]",
            "text/plain": [
              "<Figure size 432x288 with 1 Axes>"
            ]
          },
          "metadata": {
            "tags": [],
            "needs_background": "light"
          }
        }
      ]
    },
    {
      "cell_type": "markdown",
      "metadata": {
        "id": "Vi01m9MBHaJD",
        "colab_type": "text"
      },
      "source": [
        "### Visualize the ```df``` by following the steps given below:\n",
        "\n",
        "* Draw a cross tabulation of ```Attrition``` and ```BusinessTravel``` as bar charts. Find which value of ```BusinessTravel``` has highest number of people."
      ]
    },
    {
      "cell_type": "code",
      "metadata": {
        "id": "5OHAeOqeIQVM",
        "colab_type": "code",
        "colab": {
          "base_uri": "https://localhost:8080/",
          "height": 373
        },
        "outputId": "8b1aa061-56ad-47d8-e94e-83588e18cca3"
      },
      "source": [
        "# Draw a cross tab of Attritiona and BusinessTravel \n",
        "# You may use crosstab of pandas for this \n",
        "pd.crosstab(df.BusinessTravel,df.Attrition).plot.bar()\n",
        "plt.title('Graph between Attriton and BuisnessTravel')\n",
        "plt.show()"
      ],
      "execution_count": 37,
      "outputs": [
        {
          "output_type": "display_data",
          "data": {
            "image/png": "[encoded data removed]",
            "text/plain": [
              "<Figure size 432x288 with 1 Axes>"
            ]
          },
          "metadata": {
            "tags": [],
            "needs_background": "light"
          }
        }
      ]
    },
    {
      "cell_type": "markdown",
      "metadata": {
        "id": "1FCc9ZkUHfqL",
        "colab_type": "text"
      },
      "source": [
        "### Visualize the ```df``` by drawing the following plot:\n",
        "\n",
        "* Draw a stacked bar chart between ```Attrition``` and ```Gender``` columns. "
      ]
    },
    {
      "cell_type": "code",
      "metadata": {
        "id": "58ELSAXBIQST",
        "colab_type": "code",
        "colab": {
          "base_uri": "https://localhost:8080/",
          "height": 323
        },
        "outputId": "0d551739-4c7e-4c66-b81f-dd8198904e43"
      },
      "source": [
        "# Draw a stacked bar chart between Attrition and Gender \n",
        "graph= pd.crosstab(df.Gender,df.Attrition)\n",
        "graph.plot(kind='bar',stacked= True)\n",
        "plt.ylabel('Number of attrition')"
      ],
      "execution_count": 41,
      "outputs": [
        {
          "output_type": "execute_result",
          "data": {
            "text/plain": [
              "Text(0, 0.5, 'Number of attrition')"
            ]
          },
          "metadata": {
            "tags": []
          },
          "execution_count": 41
        },
        {
          "output_type": "display_data",
          "data": {
            "image/png": "[encoded data removed]",
            "text/plain": [
              "<Figure size 432x288 with 1 Axes>"
            ]
          },
          "metadata": {
            "tags": [],
            "needs_background": "light"
          }
        }
      ]
    },
    {
      "cell_type": "markdown",
      "metadata": {
        "id": "vZzsi8_QLEdq",
        "colab_type": "text"
      },
      "source": [
        "### Visualize the ```df``` by drawing the following histogram:\n",
        "\n",
        "* Draw a histogram of ```TotalWorkingYears``` with 30 bins. \n",
        "* Draw a histogram of ```YearsAtCompany``` with 30 bins and find whether the values in ```YearsAtCompany``` are skewed. "
      ]
    },
    {
      "cell_type": "code",
      "metadata": {
        "id": "zvSlfj3FLUvV",
        "colab_type": "code",
        "colab": {
          "base_uri": "https://localhost:8080/",
          "height": 535
        },
        "outputId": "48ecba73-b16b-49e0-e87c-698f06f7e5e0"
      },
      "source": [
        "# Draw a histogram of TotalWorkingYears with 30 bins\n",
        "df.hist(column ='TotalWorkingYears',bins=30,figsize= (12,8), color= 'Yellow')"
      ],
      "execution_count": 54,
      "outputs": [
        {
          "output_type": "execute_result",
          "data": {
            "text/plain": [
              "array([[<matplotlib.axes._subplots.AxesSubplot object at 0x7f0f58e05438>]],\n",
              "      dtype=object)"
            ]
          },
          "metadata": {
            "tags": []
          },
          "execution_count": 54
        },
        {
          "output_type": "display_data",
          "data": {
            "image/png": "[encoded data removed]",
            "text/plain": [
              "<Figure size 864x576 with 1 Axes>"
            ]
          },
          "metadata": {
            "tags": [],
            "needs_background": "light"
          }
        }
      ]
    },
    {
      "cell_type": "code",
      "metadata": {
        "id": "h4HOkzcqJRrR",
        "colab_type": "code",
        "colab": {
          "base_uri": "https://localhost:8080/",
          "height": 535
        },
        "outputId": "80af001a-390e-4a08-d77a-73c2cf3c1042"
      },
      "source": [
        "# Draw a histogram of YearsAtCompany\n",
        "df.hist(column= 'YearsAtCompany',bins =30,figsize= (12,8),color= 'Green')"
      ],
      "execution_count": 51,
      "outputs": [
        {
          "output_type": "execute_result",
          "data": {
            "text/plain": [
              "array([[<matplotlib.axes._subplots.AxesSubplot object at 0x7f0f58f5f550>]],\n",
              "      dtype=object)"
            ]
          },
          "metadata": {
            "tags": []
          },
          "execution_count": 51
        },
        {
          "output_type": "display_data",
          "data": {
            "image/png": "[encoded data removed]",
            "text/plain": [
              "<Figure size 864x576 with 1 Axes>"
            ]
          },
          "metadata": {
            "tags": [],
            "needs_background": "light"
          }
        }
      ]
    },
    {
      "cell_type": "code",
      "metadata": {
        "id": "TpEQQBYYMceC",
        "colab_type": "code",
        "colab": {
          "base_uri": "https://localhost:8080/",
          "height": 35
        },
        "outputId": "74633ad6-0b11-482e-ef7a-0cb06c5cf98c"
      },
      "source": [
        "df['YearsAtCompany'].skew(skipna = True)"
      ],
      "execution_count": 59,
      "outputs": [
        {
          "output_type": "execute_result",
          "data": {
            "text/plain": [
              "1.7724925350968725"
            ]
          },
          "metadata": {
            "tags": []
          },
          "execution_count": 59
        }
      ]
    },
    {
      "cell_type": "markdown",
      "metadata": {
        "id": "oBcsFqz-Moja",
        "colab_type": "text"
      },
      "source": [
        "### Visualize the ```df``` by drawing the following boxplot:\n",
        "\n",
        "* Draw a boxplot of ```MonthlyIncome``` for each ```Department``` and report whether there is/are outlier(s). \n"
      ]
    },
    {
      "cell_type": "code",
      "metadata": {
        "id": "S6zsSE65NED9",
        "colab_type": "code",
        "colab": {
          "base_uri": "https://localhost:8080/",
          "height": 297
        },
        "outputId": "7718d9ae-5754-4acc-87c4-cd195a362a97"
      },
      "source": [
        "# Draw a boxplot of MonthlyIncome for each Department and report outliers \n",
        "sns.boxplot('Department','MonthlyIncome',data=df)"
      ],
      "execution_count": 66,
      "outputs": [
        {
          "output_type": "execute_result",
          "data": {
            "text/plain": [
              "<matplotlib.axes._subplots.AxesSubplot at 0x7f0f58ba8be0>"
            ]
          },
          "metadata": {
            "tags": []
          },
          "execution_count": 66
        },
        {
          "output_type": "display_data",
          "data": {
            "image/png": "[encoded data removed]",
            "text/plain": [
              "<Figure size 432x288 with 1 Axes>"
            ]
          },
          "metadata": {
            "tags": [],
            "needs_background": "light"
          }
        }
      ]
    },
    {
      "cell_type": "markdown",
      "metadata": {
        "id": "NRPgJjp-NX07",
        "colab_type": "text"
      },
      "source": [
        "### Visualize the ```df``` by drawing the following piechart:\n",
        "\n",
        "* Create a pie chart of the values in ```JobRole``` with suitable label and report which role has highest number of persons. "
      ]
    },
    {
      "cell_type": "code",
      "metadata": {
        "id": "5pr2HVVGNlaV",
        "colab_type": "code",
        "colab": {
          "base_uri": "https://localhost:8080/",
          "height": 199
        },
        "outputId": "dde490d1-8159-494b-b727-00c34c79f07f"
      },
      "source": [
        "# Create a piechart of JobRole \n",
        "# You will need to find the counts of unique values in JobRole. \n",
        "count= df.JobRole.value_counts()\n",
        "count"
      ],
      "execution_count": 68,
      "outputs": [
        {
          "output_type": "execute_result",
          "data": {
            "text/plain": [
              "Sales Executive              223\n",
              "Research Scientist           209\n",
              "Laboratory Technician        183\n",
              "Manufacturing Director       105\n",
              "Healthcare Representative     85\n",
              "Manager                       79\n",
              "Research Director             59\n",
              "Sales Representative          57\n",
              "Human Resources               28\n",
              "Name: JobRole, dtype: int64"
            ]
          },
          "metadata": {
            "tags": []
          },
          "execution_count": 68
        }
      ]
    },
    {
      "cell_type": "code",
      "metadata": {
        "id": "9T1HxrfWR0Ty",
        "colab_type": "code",
        "colab": {}
      },
      "source": [
        "# plt.pie(count, labels=count.index.tolist())\n",
        "plt.show()"
      ],
      "execution_count": 0,
      "outputs": []
    }
  ]
}